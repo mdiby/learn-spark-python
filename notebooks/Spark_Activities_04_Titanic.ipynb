{
 "cells": [
  {
   "cell_type": "markdown",
   "metadata": {},
   "source": [
    "# Setting Up"
   ]
  },
  {
   "cell_type": "markdown",
   "metadata": {},
   "source": [
    "## Init"
   ]
  },
  {
   "cell_type": "code",
   "execution_count": 1,
   "metadata": {},
   "outputs": [],
   "source": [
    "import seaborn as sns\n",
    "import numpy as np\n",
    "import pandas as pd\n",
    "import collections # For frequency counting\n",
    "import findspark\n",
    "findspark.init(\"../../spark2/\")\n",
    "\n",
    "import pyspark\n",
    "from pyspark.sql import DataFrameNaFunctions\n",
    "from pyspark.sql.functions import lit # Create columns of *literal* value\n",
    "from pyspark.sql.functions import col # Returns a Column based on the \n",
    "                                      # given column name\n",
    "from pyspark.ml.feature import StringIndexer #label encoding\n",
    "from pyspark.ml import Pipeline\n",
    "\n",
    "sc = pyspark.SparkContext(appName=\"helloworld\")"
   ]
  },
  {
   "cell_type": "markdown",
   "metadata": {},
   "source": [
    "## SparkSession"
   ]
  },
  {
   "cell_type": "code",
   "execution_count": 2,
   "metadata": {},
   "outputs": [],
   "source": [
    "from pyspark.sql import SparkSession\n",
    "\n",
    "spark = SparkSession \\\n",
    "    .builder \\\n",
    "    .appName(\"Python Spark SQL basic example\") \\\n",
    "    .config(\"spark.some.config.option\", \"some-value\") \\\n",
    "    .getOrCreate()"
   ]
  },
  {
   "cell_type": "markdown",
   "metadata": {},
   "source": [
    "## Data"
   ]
  },
  {
   "cell_type": "code",
   "execution_count": 3,
   "metadata": {},
   "outputs": [],
   "source": [
    "trainDF = spark.read.csv(\"../data/titanic/train.csv\", header=\"true\")\n",
    "testDF = spark.read.csv(\"../data/titanic/test.csv\", header=\"true\")"
   ]
  },
  {
   "cell_type": "markdown",
   "metadata": {},
   "source": [
    "**Combine train and test data.**"
   ]
  },
  {
   "cell_type": "code",
   "execution_count": 4,
   "metadata": {},
   "outputs": [
    {
     "data": {
      "text/plain": [
       "['PassengerId',\n",
       " 'Survived',\n",
       " 'Pclass',\n",
       " 'Name',\n",
       " 'Sex',\n",
       " 'Age',\n",
       " 'SibSp',\n",
       " 'Parch',\n",
       " 'Ticket',\n",
       " 'Fare',\n",
       " 'Cabin',\n",
       " 'Embarked']"
      ]
     },
     "execution_count": 4,
     "metadata": {},
     "output_type": "execute_result"
    }
   ],
   "source": [
    "trainDF.columns"
   ]
  },
  {
   "cell_type": "code",
   "execution_count": 5,
   "metadata": {},
   "outputs": [
    {
     "data": {
      "text/plain": [
       "[Row(Embarked='S'),\n",
       " Row(Embarked='C'),\n",
       " Row(Embarked='S'),\n",
       " Row(Embarked='S'),\n",
       " Row(Embarked='S'),\n",
       " Row(Embarked='Q'),\n",
       " Row(Embarked='S'),\n",
       " Row(Embarked='S'),\n",
       " Row(Embarked='S'),\n",
       " Row(Embarked='C'),\n",
       " Row(Embarked='S'),\n",
       " Row(Embarked='S'),\n",
       " Row(Embarked='S'),\n",
       " Row(Embarked='S'),\n",
       " Row(Embarked='S'),\n",
       " Row(Embarked='S'),\n",
       " Row(Embarked='Q'),\n",
       " Row(Embarked='S'),\n",
       " Row(Embarked='S'),\n",
       " Row(Embarked='C'),\n",
       " Row(Embarked='S'),\n",
       " Row(Embarked='S'),\n",
       " Row(Embarked='Q'),\n",
       " Row(Embarked='S'),\n",
       " Row(Embarked='S'),\n",
       " Row(Embarked='S'),\n",
       " Row(Embarked='C'),\n",
       " Row(Embarked='S'),\n",
       " Row(Embarked='Q'),\n",
       " Row(Embarked='S'),\n",
       " Row(Embarked='C'),\n",
       " Row(Embarked='C'),\n",
       " Row(Embarked='Q'),\n",
       " Row(Embarked='S'),\n",
       " Row(Embarked='C'),\n",
       " Row(Embarked='S'),\n",
       " Row(Embarked='C'),\n",
       " Row(Embarked='S'),\n",
       " Row(Embarked='S'),\n",
       " Row(Embarked='C'),\n",
       " Row(Embarked='S'),\n",
       " Row(Embarked='S'),\n",
       " Row(Embarked='C'),\n",
       " Row(Embarked='C'),\n",
       " Row(Embarked='Q'),\n",
       " Row(Embarked='S'),\n",
       " Row(Embarked='Q'),\n",
       " Row(Embarked='Q'),\n",
       " Row(Embarked='C'),\n",
       " Row(Embarked='S'),\n",
       " Row(Embarked='S'),\n",
       " Row(Embarked='S'),\n",
       " Row(Embarked='C'),\n",
       " Row(Embarked='S'),\n",
       " Row(Embarked='C'),\n",
       " Row(Embarked='S'),\n",
       " Row(Embarked='S'),\n",
       " Row(Embarked='C'),\n",
       " Row(Embarked='S'),\n",
       " Row(Embarked='S'),\n",
       " Row(Embarked='C'),\n",
       " Row(Embarked=None),\n",
       " Row(Embarked='S'),\n",
       " Row(Embarked='S'),\n",
       " Row(Embarked='C'),\n",
       " Row(Embarked='C'),\n",
       " Row(Embarked='S'),\n",
       " Row(Embarked='S'),\n",
       " Row(Embarked='S'),\n",
       " Row(Embarked='S'),\n",
       " Row(Embarked='S'),\n",
       " Row(Embarked='S'),\n",
       " Row(Embarked='S'),\n",
       " Row(Embarked='C'),\n",
       " Row(Embarked='S'),\n",
       " Row(Embarked='S'),\n",
       " Row(Embarked='S'),\n",
       " Row(Embarked='S'),\n",
       " Row(Embarked='S'),\n",
       " Row(Embarked='S'),\n",
       " Row(Embarked='S'),\n",
       " Row(Embarked='S'),\n",
       " Row(Embarked='Q'),\n",
       " Row(Embarked='S'),\n",
       " Row(Embarked='S'),\n",
       " Row(Embarked='S'),\n",
       " Row(Embarked='S'),\n",
       " Row(Embarked='S'),\n",
       " Row(Embarked='S'),\n",
       " Row(Embarked='S'),\n",
       " Row(Embarked='S'),\n",
       " Row(Embarked='S'),\n",
       " Row(Embarked='S'),\n",
       " Row(Embarked='S'),\n",
       " Row(Embarked='S'),\n",
       " Row(Embarked='S'),\n",
       " Row(Embarked='C'),\n",
       " Row(Embarked='C'),\n",
       " Row(Embarked='S'),\n",
       " Row(Embarked='S'),\n",
       " Row(Embarked='S'),\n",
       " Row(Embarked='S'),\n",
       " Row(Embarked='S'),\n",
       " Row(Embarked='S'),\n",
       " Row(Embarked='S'),\n",
       " Row(Embarked='S'),\n",
       " Row(Embarked='S'),\n",
       " Row(Embarked='S'),\n",
       " Row(Embarked='S'),\n",
       " Row(Embarked='Q'),\n",
       " Row(Embarked='S'),\n",
       " Row(Embarked='C'),\n",
       " Row(Embarked='S'),\n",
       " Row(Embarked='S'),\n",
       " Row(Embarked='C'),\n",
       " Row(Embarked='S'),\n",
       " Row(Embarked='Q'),\n",
       " Row(Embarked='S'),\n",
       " Row(Embarked='C'),\n",
       " Row(Embarked='S'),\n",
       " Row(Embarked='S'),\n",
       " Row(Embarked='S'),\n",
       " Row(Embarked='C'),\n",
       " Row(Embarked='S'),\n",
       " Row(Embarked='S'),\n",
       " Row(Embarked='C'),\n",
       " Row(Embarked='Q'),\n",
       " Row(Embarked='S'),\n",
       " Row(Embarked='C'),\n",
       " Row(Embarked='S'),\n",
       " Row(Embarked='C'),\n",
       " Row(Embarked='S'),\n",
       " Row(Embarked='S'),\n",
       " Row(Embarked='S'),\n",
       " Row(Embarked='S'),\n",
       " Row(Embarked='C'),\n",
       " Row(Embarked='S'),\n",
       " Row(Embarked='S'),\n",
       " Row(Embarked='S'),\n",
       " Row(Embarked='C'),\n",
       " Row(Embarked='C'),\n",
       " Row(Embarked='S'),\n",
       " Row(Embarked='S'),\n",
       " Row(Embarked='Q'),\n",
       " Row(Embarked='S'),\n",
       " Row(Embarked='S'),\n",
       " Row(Embarked='S'),\n",
       " Row(Embarked='S'),\n",
       " Row(Embarked='S'),\n",
       " Row(Embarked='S'),\n",
       " Row(Embarked='S'),\n",
       " Row(Embarked='S'),\n",
       " Row(Embarked='S'),\n",
       " Row(Embarked='S'),\n",
       " Row(Embarked='S'),\n",
       " Row(Embarked='C'),\n",
       " Row(Embarked='Q'),\n",
       " Row(Embarked='S'),\n",
       " Row(Embarked='S'),\n",
       " Row(Embarked='S'),\n",
       " Row(Embarked='S'),\n",
       " Row(Embarked='S'),\n",
       " Row(Embarked='S'),\n",
       " Row(Embarked='S'),\n",
       " Row(Embarked='S'),\n",
       " Row(Embarked='S'),\n",
       " Row(Embarked='S'),\n",
       " Row(Embarked='S'),\n",
       " Row(Embarked='S'),\n",
       " Row(Embarked='S'),\n",
       " Row(Embarked='S'),\n",
       " Row(Embarked='Q'),\n",
       " Row(Embarked='S'),\n",
       " Row(Embarked='S'),\n",
       " Row(Embarked='C'),\n",
       " Row(Embarked='S'),\n",
       " Row(Embarked='S'),\n",
       " Row(Embarked='C'),\n",
       " Row(Embarked='S'),\n",
       " Row(Embarked='S'),\n",
       " Row(Embarked='S'),\n",
       " Row(Embarked='C'),\n",
       " Row(Embarked='S'),\n",
       " Row(Embarked='S'),\n",
       " Row(Embarked='S'),\n",
       " Row(Embarked='S'),\n",
       " Row(Embarked='Q'),\n",
       " Row(Embarked='S'),\n",
       " Row(Embarked='Q'),\n",
       " Row(Embarked='S'),\n",
       " Row(Embarked='S'),\n",
       " Row(Embarked='S'),\n",
       " Row(Embarked='S'),\n",
       " Row(Embarked='S'),\n",
       " Row(Embarked='C'),\n",
       " Row(Embarked='C'),\n",
       " Row(Embarked='Q'),\n",
       " Row(Embarked='S'),\n",
       " Row(Embarked='Q'),\n",
       " Row(Embarked='S'),\n",
       " Row(Embarked='S'),\n",
       " Row(Embarked='S'),\n",
       " Row(Embarked='S'),\n",
       " Row(Embarked='C'),\n",
       " Row(Embarked='S'),\n",
       " Row(Embarked='S'),\n",
       " Row(Embarked='S'),\n",
       " Row(Embarked='C'),\n",
       " Row(Embarked='Q'),\n",
       " Row(Embarked='C'),\n",
       " Row(Embarked='S'),\n",
       " Row(Embarked='S'),\n",
       " Row(Embarked='S'),\n",
       " Row(Embarked='S'),\n",
       " Row(Embarked='Q'),\n",
       " Row(Embarked='C'),\n",
       " Row(Embarked='S'),\n",
       " Row(Embarked='S'),\n",
       " Row(Embarked='C'),\n",
       " Row(Embarked='S'),\n",
       " Row(Embarked='S'),\n",
       " Row(Embarked='S'),\n",
       " Row(Embarked='S'),\n",
       " Row(Embarked='S'),\n",
       " Row(Embarked='S'),\n",
       " Row(Embarked='S'),\n",
       " Row(Embarked='S'),\n",
       " Row(Embarked='S'),\n",
       " Row(Embarked='S'),\n",
       " Row(Embarked='S'),\n",
       " Row(Embarked='S'),\n",
       " Row(Embarked='S'),\n",
       " Row(Embarked='S'),\n",
       " Row(Embarked='S'),\n",
       " Row(Embarked='S'),\n",
       " Row(Embarked='S'),\n",
       " Row(Embarked='S'),\n",
       " Row(Embarked='S'),\n",
       " Row(Embarked='S'),\n",
       " Row(Embarked='S'),\n",
       " Row(Embarked='C'),\n",
       " Row(Embarked='Q'),\n",
       " Row(Embarked='S'),\n",
       " Row(Embarked='S'),\n",
       " Row(Embarked='C'),\n",
       " Row(Embarked='Q'),\n",
       " Row(Embarked='S'),\n",
       " Row(Embarked='S'),\n",
       " Row(Embarked='S'),\n",
       " Row(Embarked='S'),\n",
       " Row(Embarked='S'),\n",
       " Row(Embarked='S'),\n",
       " Row(Embarked='S'),\n",
       " Row(Embarked='S'),\n",
       " Row(Embarked='S'),\n",
       " Row(Embarked='C'),\n",
       " Row(Embarked='C'),\n",
       " Row(Embarked='S'),\n",
       " Row(Embarked='C'),\n",
       " Row(Embarked='S'),\n",
       " Row(Embarked='Q'),\n",
       " Row(Embarked='S'),\n",
       " Row(Embarked='S'),\n",
       " Row(Embarked='S'),\n",
       " Row(Embarked='Q'),\n",
       " Row(Embarked='S'),\n",
       " Row(Embarked='S'),\n",
       " Row(Embarked='S'),\n",
       " Row(Embarked='S'),\n",
       " Row(Embarked='S'),\n",
       " Row(Embarked='S'),\n",
       " Row(Embarked='S'),\n",
       " Row(Embarked='S'),\n",
       " Row(Embarked='C'),\n",
       " Row(Embarked='Q'),\n",
       " Row(Embarked='S'),\n",
       " Row(Embarked='S'),\n",
       " Row(Embarked='S'),\n",
       " Row(Embarked='Q'),\n",
       " Row(Embarked='S'),\n",
       " Row(Embarked='Q'),\n",
       " Row(Embarked='S'),\n",
       " Row(Embarked='S'),\n",
       " Row(Embarked='S'),\n",
       " Row(Embarked='S'),\n",
       " Row(Embarked='C'),\n",
       " Row(Embarked='S'),\n",
       " Row(Embarked='S'),\n",
       " Row(Embarked='S'),\n",
       " Row(Embarked='Q'),\n",
       " Row(Embarked='S'),\n",
       " Row(Embarked='C'),\n",
       " Row(Embarked='C'),\n",
       " Row(Embarked='S'),\n",
       " Row(Embarked='S'),\n",
       " Row(Embarked='C'),\n",
       " Row(Embarked='C'),\n",
       " Row(Embarked='S'),\n",
       " Row(Embarked='S'),\n",
       " Row(Embarked='C'),\n",
       " Row(Embarked='Q'),\n",
       " Row(Embarked='Q'),\n",
       " Row(Embarked='S'),\n",
       " Row(Embarked='Q'),\n",
       " Row(Embarked='S'),\n",
       " Row(Embarked='S'),\n",
       " Row(Embarked='C'),\n",
       " Row(Embarked='C'),\n",
       " Row(Embarked='C'),\n",
       " Row(Embarked='C'),\n",
       " Row(Embarked='C'),\n",
       " Row(Embarked='C'),\n",
       " Row(Embarked='S'),\n",
       " Row(Embarked='S'),\n",
       " Row(Embarked='S'),\n",
       " Row(Embarked='S'),\n",
       " Row(Embarked='S'),\n",
       " Row(Embarked='S'),\n",
       " Row(Embarked='S'),\n",
       " Row(Embarked='C'),\n",
       " Row(Embarked='S'),\n",
       " Row(Embarked='S'),\n",
       " Row(Embarked='Q'),\n",
       " Row(Embarked='S'),\n",
       " Row(Embarked='S'),\n",
       " Row(Embarked='C'),\n",
       " Row(Embarked='S'),\n",
       " Row(Embarked='S'),\n",
       " Row(Embarked='S'),\n",
       " Row(Embarked='C'),\n",
       " Row(Embarked='Q'),\n",
       " Row(Embarked='S'),\n",
       " Row(Embarked='S'),\n",
       " Row(Embarked='S'),\n",
       " Row(Embarked='S'),\n",
       " Row(Embarked='S'),\n",
       " Row(Embarked='S'),\n",
       " Row(Embarked='C'),\n",
       " Row(Embarked='S'),\n",
       " Row(Embarked='S'),\n",
       " Row(Embarked='S'),\n",
       " Row(Embarked='S'),\n",
       " Row(Embarked='S'),\n",
       " Row(Embarked='S'),\n",
       " Row(Embarked='S'),\n",
       " Row(Embarked='S'),\n",
       " Row(Embarked='S'),\n",
       " Row(Embarked='S'),\n",
       " Row(Embarked='S'),\n",
       " Row(Embarked='S'),\n",
       " Row(Embarked='S'),\n",
       " Row(Embarked='S'),\n",
       " Row(Embarked='C'),\n",
       " Row(Embarked='S'),\n",
       " Row(Embarked='C'),\n",
       " Row(Embarked='S'),\n",
       " Row(Embarked='S'),\n",
       " Row(Embarked='S'),\n",
       " Row(Embarked='Q'),\n",
       " Row(Embarked='Q'),\n",
       " Row(Embarked='S'),\n",
       " Row(Embarked='C'),\n",
       " Row(Embarked='C'),\n",
       " Row(Embarked='S'),\n",
       " Row(Embarked='Q'),\n",
       " Row(Embarked='S'),\n",
       " Row(Embarked='C'),\n",
       " Row(Embarked='C'),\n",
       " Row(Embarked='Q'),\n",
       " Row(Embarked='C'),\n",
       " Row(Embarked='C'),\n",
       " Row(Embarked='S'),\n",
       " Row(Embarked='S'),\n",
       " Row(Embarked='C'),\n",
       " Row(Embarked='S'),\n",
       " Row(Embarked='C'),\n",
       " Row(Embarked='S'),\n",
       " Row(Embarked='C'),\n",
       " Row(Embarked='C'),\n",
       " Row(Embarked='S'),\n",
       " Row(Embarked='C'),\n",
       " Row(Embarked='C'),\n",
       " Row(Embarked='S'),\n",
       " Row(Embarked='S'),\n",
       " Row(Embarked='S'),\n",
       " Row(Embarked='S'),\n",
       " Row(Embarked='S'),\n",
       " Row(Embarked='S'),\n",
       " Row(Embarked='Q'),\n",
       " Row(Embarked='C'),\n",
       " Row(Embarked='S'),\n",
       " Row(Embarked='S'),\n",
       " Row(Embarked='S'),\n",
       " Row(Embarked='C'),\n",
       " Row(Embarked='S'),\n",
       " Row(Embarked='S'),\n",
       " Row(Embarked='S'),\n",
       " Row(Embarked='S'),\n",
       " Row(Embarked='S'),\n",
       " Row(Embarked='S'),\n",
       " Row(Embarked='S'),\n",
       " Row(Embarked='S'),\n",
       " Row(Embarked='S'),\n",
       " Row(Embarked='S'),\n",
       " Row(Embarked='S'),\n",
       " Row(Embarked='S'),\n",
       " Row(Embarked='S'),\n",
       " Row(Embarked='S'),\n",
       " Row(Embarked='S'),\n",
       " Row(Embarked='S'),\n",
       " Row(Embarked='S'),\n",
       " Row(Embarked='Q'),\n",
       " Row(Embarked='Q'),\n",
       " Row(Embarked='S'),\n",
       " Row(Embarked='S'),\n",
       " Row(Embarked='S'),\n",
       " Row(Embarked='S'),\n",
       " Row(Embarked='S'),\n",
       " Row(Embarked='S'),\n",
       " Row(Embarked='S'),\n",
       " Row(Embarked='C'),\n",
       " Row(Embarked='Q'),\n",
       " Row(Embarked='S'),\n",
       " Row(Embarked='S'),\n",
       " Row(Embarked='S'),\n",
       " Row(Embarked='S'),\n",
       " Row(Embarked='S'),\n",
       " Row(Embarked='S'),\n",
       " Row(Embarked='Q'),\n",
       " Row(Embarked='S'),\n",
       " Row(Embarked='S'),\n",
       " Row(Embarked='S'),\n",
       " Row(Embarked='S'),\n",
       " Row(Embarked='S'),\n",
       " Row(Embarked='S'),\n",
       " Row(Embarked='S'),\n",
       " Row(Embarked='S'),\n",
       " Row(Embarked='S'),\n",
       " Row(Embarked='S'),\n",
       " Row(Embarked='S'),\n",
       " Row(Embarked='S'),\n",
       " Row(Embarked='S'),\n",
       " Row(Embarked='S'),\n",
       " Row(Embarked='S'),\n",
       " Row(Embarked='S'),\n",
       " Row(Embarked='S'),\n",
       " Row(Embarked='S'),\n",
       " Row(Embarked='S'),\n",
       " Row(Embarked='C'),\n",
       " Row(Embarked='S'),\n",
       " Row(Embarked='S'),\n",
       " Row(Embarked='S'),\n",
       " Row(Embarked='C'),\n",
       " Row(Embarked='C'),\n",
       " Row(Embarked='S'),\n",
       " Row(Embarked='C'),\n",
       " Row(Embarked='S'),\n",
       " Row(Embarked='S'),\n",
       " Row(Embarked='S'),\n",
       " Row(Embarked='Q'),\n",
       " Row(Embarked='S'),\n",
       " Row(Embarked='S'),\n",
       " Row(Embarked='S'),\n",
       " Row(Embarked='S'),\n",
       " Row(Embarked='S'),\n",
       " Row(Embarked='S'),\n",
       " Row(Embarked='S'),\n",
       " Row(Embarked='S'),\n",
       " Row(Embarked='Q'),\n",
       " Row(Embarked='C'),\n",
       " Row(Embarked='S'),\n",
       " Row(Embarked='S'),\n",
       " Row(Embarked='S'),\n",
       " Row(Embarked='C'),\n",
       " Row(Embarked='S'),\n",
       " Row(Embarked='S'),\n",
       " Row(Embarked='S'),\n",
       " Row(Embarked='S'),\n",
       " Row(Embarked='S'),\n",
       " Row(Embarked='S'),\n",
       " Row(Embarked='S'),\n",
       " Row(Embarked='S'),\n",
       " Row(Embarked='S'),\n",
       " Row(Embarked='S'),\n",
       " Row(Embarked='C'),\n",
       " Row(Embarked='S'),\n",
       " Row(Embarked='S'),\n",
       " Row(Embarked='C'),\n",
       " Row(Embarked='S'),\n",
       " Row(Embarked='S'),\n",
       " Row(Embarked='S'),\n",
       " Row(Embarked='S'),\n",
       " Row(Embarked='S'),\n",
       " Row(Embarked='C'),\n",
       " Row(Embarked='S'),\n",
       " Row(Embarked='C'),\n",
       " Row(Embarked='C'),\n",
       " Row(Embarked='S'),\n",
       " Row(Embarked='S'),\n",
       " Row(Embarked='S'),\n",
       " Row(Embarked='S'),\n",
       " Row(Embarked='Q'),\n",
       " Row(Embarked='Q'),\n",
       " Row(Embarked='S'),\n",
       " Row(Embarked='S'),\n",
       " Row(Embarked='C'),\n",
       " Row(Embarked='S'),\n",
       " Row(Embarked='S'),\n",
       " Row(Embarked='S'),\n",
       " Row(Embarked='S'),\n",
       " Row(Embarked='Q'),\n",
       " Row(Embarked='S'),\n",
       " Row(Embarked='S'),\n",
       " Row(Embarked='C'),\n",
       " Row(Embarked='S'),\n",
       " Row(Embarked='S'),\n",
       " Row(Embarked='S'),\n",
       " Row(Embarked='Q'),\n",
       " Row(Embarked='S'),\n",
       " Row(Embarked='S'),\n",
       " Row(Embarked='S'),\n",
       " Row(Embarked='S'),\n",
       " Row(Embarked='C'),\n",
       " Row(Embarked='C'),\n",
       " Row(Embarked='C'),\n",
       " Row(Embarked='Q'),\n",
       " Row(Embarked='S'),\n",
       " Row(Embarked='S'),\n",
       " Row(Embarked='S'),\n",
       " Row(Embarked='S'),\n",
       " Row(Embarked='S'),\n",
       " Row(Embarked='C'),\n",
       " Row(Embarked='C'),\n",
       " Row(Embarked='C'),\n",
       " Row(Embarked='S'),\n",
       " Row(Embarked='S'),\n",
       " Row(Embarked='S'),\n",
       " Row(Embarked='C'),\n",
       " Row(Embarked='S'),\n",
       " Row(Embarked='C'),\n",
       " Row(Embarked='S'),\n",
       " Row(Embarked='S'),\n",
       " Row(Embarked='S'),\n",
       " Row(Embarked='S'),\n",
       " Row(Embarked='C'),\n",
       " Row(Embarked='S'),\n",
       " Row(Embarked='S'),\n",
       " Row(Embarked='C'),\n",
       " Row(Embarked='S'),\n",
       " Row(Embarked='S'),\n",
       " Row(Embarked='C'),\n",
       " Row(Embarked='S'),\n",
       " Row(Embarked='Q'),\n",
       " Row(Embarked='C'),\n",
       " Row(Embarked='S'),\n",
       " Row(Embarked='S'),\n",
       " Row(Embarked='C'),\n",
       " Row(Embarked='C'),\n",
       " Row(Embarked='S'),\n",
       " Row(Embarked='S'),\n",
       " Row(Embarked='Q'),\n",
       " Row(Embarked='S'),\n",
       " Row(Embarked='S'),\n",
       " Row(Embarked='S'),\n",
       " Row(Embarked='S'),\n",
       " Row(Embarked='S'),\n",
       " Row(Embarked='S'),\n",
       " Row(Embarked='S'),\n",
       " Row(Embarked='C'),\n",
       " Row(Embarked='S'),\n",
       " Row(Embarked='S'),\n",
       " Row(Embarked='S'),\n",
       " Row(Embarked='S'),\n",
       " Row(Embarked='Q'),\n",
       " Row(Embarked='S'),\n",
       " Row(Embarked='S'),\n",
       " Row(Embarked='S'),\n",
       " Row(Embarked='S'),\n",
       " Row(Embarked='C'),\n",
       " Row(Embarked='S'),\n",
       " Row(Embarked='S'),\n",
       " Row(Embarked='C'),\n",
       " Row(Embarked='S'),\n",
       " Row(Embarked='C'),\n",
       " Row(Embarked='C'),\n",
       " Row(Embarked='S'),\n",
       " Row(Embarked='S'),\n",
       " Row(Embarked='C'),\n",
       " Row(Embarked='S'),\n",
       " Row(Embarked='S'),\n",
       " Row(Embarked='S'),\n",
       " Row(Embarked='C'),\n",
       " Row(Embarked='S'),\n",
       " Row(Embarked='Q'),\n",
       " Row(Embarked='S'),\n",
       " Row(Embarked='S'),\n",
       " Row(Embarked='S'),\n",
       " Row(Embarked='S'),\n",
       " Row(Embarked='C'),\n",
       " Row(Embarked='C'),\n",
       " Row(Embarked='S'),\n",
       " Row(Embarked='S'),\n",
       " Row(Embarked='S'),\n",
       " Row(Embarked='S'),\n",
       " Row(Embarked='C'),\n",
       " Row(Embarked='S'),\n",
       " Row(Embarked='S'),\n",
       " Row(Embarked='S'),\n",
       " Row(Embarked='C'),\n",
       " Row(Embarked='S'),\n",
       " Row(Embarked='S'),\n",
       " Row(Embarked='S'),\n",
       " Row(Embarked='Q'),\n",
       " Row(Embarked='Q'),\n",
       " Row(Embarked='S'),\n",
       " Row(Embarked='S'),\n",
       " Row(Embarked='S'),\n",
       " Row(Embarked='S'),\n",
       " Row(Embarked='S'),\n",
       " Row(Embarked='S'),\n",
       " Row(Embarked='C'),\n",
       " Row(Embarked='S'),\n",
       " Row(Embarked='C'),\n",
       " Row(Embarked='S'),\n",
       " Row(Embarked='S'),\n",
       " Row(Embarked='S'),\n",
       " Row(Embarked='Q'),\n",
       " Row(Embarked='S'),\n",
       " Row(Embarked='S'),\n",
       " Row(Embarked='Q'),\n",
       " Row(Embarked='S'),\n",
       " Row(Embarked='S'),\n",
       " Row(Embarked='C'),\n",
       " Row(Embarked='S'),\n",
       " Row(Embarked='S'),\n",
       " Row(Embarked='S'),\n",
       " Row(Embarked='S'),\n",
       " Row(Embarked='S'),\n",
       " Row(Embarked='S'),\n",
       " Row(Embarked='S'),\n",
       " Row(Embarked='S'),\n",
       " Row(Embarked='C'),\n",
       " Row(Embarked='S'),\n",
       " Row(Embarked='S'),\n",
       " Row(Embarked='C'),\n",
       " Row(Embarked='C'),\n",
       " Row(Embarked='S'),\n",
       " Row(Embarked='C'),\n",
       " Row(Embarked='S'),\n",
       " Row(Embarked='S'),\n",
       " Row(Embarked='S'),\n",
       " Row(Embarked='S'),\n",
       " Row(Embarked='S'),\n",
       " Row(Embarked='Q'),\n",
       " Row(Embarked='Q'),\n",
       " Row(Embarked='S'),\n",
       " Row(Embarked='S'),\n",
       " Row(Embarked='Q'),\n",
       " Row(Embarked='S'),\n",
       " Row(Embarked='C'),\n",
       " Row(Embarked='S'),\n",
       " Row(Embarked='C'),\n",
       " Row(Embarked='S'),\n",
       " Row(Embarked='S'),\n",
       " Row(Embarked='S'),\n",
       " Row(Embarked='S'),\n",
       " Row(Embarked='S'),\n",
       " Row(Embarked='S'),\n",
       " Row(Embarked='S'),\n",
       " Row(Embarked='S'),\n",
       " Row(Embarked='S'),\n",
       " Row(Embarked='S'),\n",
       " Row(Embarked='S'),\n",
       " Row(Embarked='S'),\n",
       " Row(Embarked='S'),\n",
       " Row(Embarked='S'),\n",
       " Row(Embarked='S'),\n",
       " Row(Embarked='S'),\n",
       " Row(Embarked='S'),\n",
       " Row(Embarked='C'),\n",
       " Row(Embarked='Q'),\n",
       " Row(Embarked='C'),\n",
       " Row(Embarked='S'),\n",
       " Row(Embarked='S'),\n",
       " Row(Embarked='S'),\n",
       " Row(Embarked='C'),\n",
       " Row(Embarked='S'),\n",
       " Row(Embarked='S'),\n",
       " Row(Embarked='S'),\n",
       " Row(Embarked='S'),\n",
       " Row(Embarked='S'),\n",
       " Row(Embarked='C'),\n",
       " Row(Embarked='S'),\n",
       " Row(Embarked='C'),\n",
       " Row(Embarked='S'),\n",
       " Row(Embarked='S'),\n",
       " Row(Embarked='S'),\n",
       " Row(Embarked='Q'),\n",
       " Row(Embarked='C'),\n",
       " Row(Embarked='S'),\n",
       " Row(Embarked='C'),\n",
       " Row(Embarked='S'),\n",
       " Row(Embarked='C'),\n",
       " Row(Embarked='Q'),\n",
       " Row(Embarked='S'),\n",
       " Row(Embarked='S'),\n",
       " Row(Embarked='S'),\n",
       " Row(Embarked='S'),\n",
       " Row(Embarked='S'),\n",
       " Row(Embarked='C'),\n",
       " Row(Embarked='C'),\n",
       " Row(Embarked='S'),\n",
       " Row(Embarked='S'),\n",
       " Row(Embarked='S'),\n",
       " Row(Embarked='S'),\n",
       " Row(Embarked='S'),\n",
       " Row(Embarked='C'),\n",
       " Row(Embarked='S'),\n",
       " Row(Embarked='Q'),\n",
       " Row(Embarked='S'),\n",
       " Row(Embarked='S'),\n",
       " Row(Embarked='S'),\n",
       " Row(Embarked='S'),\n",
       " Row(Embarked='S'),\n",
       " Row(Embarked='S'),\n",
       " Row(Embarked='S'),\n",
       " Row(Embarked='S'),\n",
       " Row(Embarked='Q'),\n",
       " Row(Embarked='S'),\n",
       " Row(Embarked='S'),\n",
       " Row(Embarked='S'),\n",
       " Row(Embarked='C'),\n",
       " Row(Embarked='S'),\n",
       " Row(Embarked='S'),\n",
       " Row(Embarked='S'),\n",
       " Row(Embarked='S'),\n",
       " Row(Embarked='S'),\n",
       " Row(Embarked='C'),\n",
       " Row(Embarked='S'),\n",
       " Row(Embarked='S'),\n",
       " Row(Embarked='S'),\n",
       " Row(Embarked='S'),\n",
       " Row(Embarked='C'),\n",
       " Row(Embarked='S'),\n",
       " Row(Embarked='S'),\n",
       " Row(Embarked='S'),\n",
       " Row(Embarked='S'),\n",
       " Row(Embarked='S'),\n",
       " Row(Embarked='S'),\n",
       " Row(Embarked='Q'),\n",
       " Row(Embarked='S'),\n",
       " Row(Embarked='S'),\n",
       " Row(Embarked='S'),\n",
       " Row(Embarked='S'),\n",
       " Row(Embarked='S'),\n",
       " Row(Embarked='S'),\n",
       " Row(Embarked='S'),\n",
       " Row(Embarked='S'),\n",
       " Row(Embarked='S'),\n",
       " Row(Embarked='S'),\n",
       " Row(Embarked='S'),\n",
       " Row(Embarked='S'),\n",
       " Row(Embarked='C'),\n",
       " Row(Embarked='S'),\n",
       " Row(Embarked='S'),\n",
       " Row(Embarked='S'),\n",
       " Row(Embarked='C'),\n",
       " Row(Embarked='Q'),\n",
       " Row(Embarked='Q'),\n",
       " Row(Embarked='S'),\n",
       " Row(Embarked='S'),\n",
       " Row(Embarked='S'),\n",
       " Row(Embarked='S'),\n",
       " Row(Embarked='C'),\n",
       " Row(Embarked='S'),\n",
       " Row(Embarked='S'),\n",
       " Row(Embarked='Q'),\n",
       " Row(Embarked='S'),\n",
       " Row(Embarked='Q'),\n",
       " Row(Embarked='S'),\n",
       " Row(Embarked='C'),\n",
       " Row(Embarked='S'),\n",
       " Row(Embarked='S'),\n",
       " Row(Embarked='S'),\n",
       " Row(Embarked='S'),\n",
       " Row(Embarked='S'),\n",
       " Row(Embarked='S'),\n",
       " Row(Embarked='Q'),\n",
       " Row(Embarked='S'),\n",
       " Row(Embarked='C'),\n",
       " Row(Embarked='Q'),\n",
       " Row(Embarked='S'),\n",
       " Row(Embarked='S'),\n",
       " Row(Embarked='C'),\n",
       " Row(Embarked='S'),\n",
       " Row(Embarked='S'),\n",
       " Row(Embarked='S'),\n",
       " Row(Embarked='S'),\n",
       " Row(Embarked='C'),\n",
       " Row(Embarked='S'),\n",
       " Row(Embarked='S'),\n",
       " Row(Embarked='S'),\n",
       " Row(Embarked='S'),\n",
       " Row(Embarked='C'),\n",
       " Row(Embarked='S'),\n",
       " Row(Embarked='S'),\n",
       " Row(Embarked='S'),\n",
       " Row(Embarked='S'),\n",
       " Row(Embarked='S'),\n",
       " Row(Embarked='S'),\n",
       " Row(Embarked='S'),\n",
       " Row(Embarked='S'),\n",
       " Row(Embarked='S'),\n",
       " Row(Embarked='S'),\n",
       " Row(Embarked='S'),\n",
       " Row(Embarked='S'),\n",
       " Row(Embarked='S'),\n",
       " Row(Embarked='C'),\n",
       " Row(Embarked='S'),\n",
       " Row(Embarked='S'),\n",
       " Row(Embarked='S'),\n",
       " Row(Embarked='S'),\n",
       " Row(Embarked='S'),\n",
       " Row(Embarked='S'),\n",
       " Row(Embarked='S'),\n",
       " Row(Embarked='Q'),\n",
       " Row(Embarked='S'),\n",
       " Row(Embarked='C'),\n",
       " Row(Embarked='Q'),\n",
       " Row(Embarked=None),\n",
       " Row(Embarked='C'),\n",
       " Row(Embarked='S'),\n",
       " Row(Embarked='C'),\n",
       " Row(Embarked='S'),\n",
       " Row(Embarked='S'),\n",
       " Row(Embarked='C'),\n",
       " Row(Embarked='S'),\n",
       " Row(Embarked='S'),\n",
       " Row(Embarked='S'),\n",
       " Row(Embarked='C'),\n",
       " Row(Embarked='S'),\n",
       " Row(Embarked='S'),\n",
       " Row(Embarked='C'),\n",
       " Row(Embarked='C'),\n",
       " Row(Embarked='S'),\n",
       " Row(Embarked='S'),\n",
       " Row(Embarked='S'),\n",
       " Row(Embarked='C'),\n",
       " Row(Embarked='S'),\n",
       " Row(Embarked='C'),\n",
       " Row(Embarked='S'),\n",
       " Row(Embarked='S'),\n",
       " Row(Embarked='C'),\n",
       " Row(Embarked='S'),\n",
       " Row(Embarked='S'),\n",
       " Row(Embarked='S'),\n",
       " Row(Embarked='S'),\n",
       " Row(Embarked='S'),\n",
       " Row(Embarked='C'),\n",
       " Row(Embarked='C'),\n",
       " Row(Embarked='S'),\n",
       " Row(Embarked='S'),\n",
       " Row(Embarked='S'),\n",
       " Row(Embarked='S'),\n",
       " Row(Embarked='S'),\n",
       " Row(Embarked='S'),\n",
       " Row(Embarked='C'),\n",
       " Row(Embarked='S'),\n",
       " Row(Embarked='S'),\n",
       " Row(Embarked='S'),\n",
       " Row(Embarked='S'),\n",
       " Row(Embarked='S'),\n",
       " Row(Embarked='S'),\n",
       " Row(Embarked='S'),\n",
       " Row(Embarked='C'),\n",
       " Row(Embarked='C'),\n",
       " Row(Embarked='S'),\n",
       " Row(Embarked='S'),\n",
       " Row(Embarked='S'),\n",
       " Row(Embarked='C'),\n",
       " Row(Embarked='S'),\n",
       " Row(Embarked='S'),\n",
       " Row(Embarked='S'),\n",
       " Row(Embarked='S'),\n",
       " Row(Embarked='S'),\n",
       " Row(Embarked='Q'),\n",
       " Row(Embarked='S'),\n",
       " Row(Embarked='S'),\n",
       " Row(Embarked='S'),\n",
       " Row(Embarked='C'),\n",
       " Row(Embarked='Q')]"
      ]
     },
     "execution_count": 5,
     "metadata": {},
     "output_type": "execute_result"
    }
   ],
   "source": [
    "trainDF.select(['Embarked']).collect()"
   ]
  },
  {
   "cell_type": "code",
   "execution_count": 6,
   "metadata": {},
   "outputs": [
    {
     "name": "stdout",
     "output_type": "stream",
     "text": [
      "+--------+\n",
      "|Embarked|\n",
      "+--------+\n",
      "|       S|\n",
      "|       C|\n",
      "|       S|\n",
      "|       S|\n",
      "|       S|\n",
      "|       Q|\n",
      "|       S|\n",
      "|       S|\n",
      "|       S|\n",
      "|       C|\n",
      "|       S|\n",
      "|       S|\n",
      "|       S|\n",
      "|       S|\n",
      "|       S|\n",
      "|       S|\n",
      "|       Q|\n",
      "|       S|\n",
      "|       S|\n",
      "|       C|\n",
      "+--------+\n",
      "only showing top 20 rows\n",
      "\n"
     ]
    }
   ],
   "source": [
    "trainDF.select(['Embarked']).show()"
   ]
  },
  {
   "cell_type": "code",
   "execution_count": 7,
   "metadata": {
    "collapsed": true
   },
   "outputs": [],
   "source": [
    "trainDF = trainDF.withColumn('Mark', lit('train'))"
   ]
  },
  {
   "cell_type": "code",
   "execution_count": 8,
   "metadata": {},
   "outputs": [
    {
     "data": {
      "text/plain": [
       "['PassengerId',\n",
       " 'Survived',\n",
       " 'Pclass',\n",
       " 'Name',\n",
       " 'Sex',\n",
       " 'Age',\n",
       " 'SibSp',\n",
       " 'Parch',\n",
       " 'Ticket',\n",
       " 'Fare',\n",
       " 'Cabin',\n",
       " 'Embarked',\n",
       " 'Mark']"
      ]
     },
     "execution_count": 8,
     "metadata": {},
     "output_type": "execute_result"
    }
   ],
   "source": [
    "trainDF.columns"
   ]
  },
  {
   "cell_type": "code",
   "execution_count": 9,
   "metadata": {},
   "outputs": [
    {
     "name": "stdout",
     "output_type": "stream",
     "text": [
      "+-----+\n",
      "| Mark|\n",
      "+-----+\n",
      "|train|\n",
      "|train|\n",
      "|train|\n",
      "|train|\n",
      "|train|\n",
      "|train|\n",
      "|train|\n",
      "|train|\n",
      "|train|\n",
      "|train|\n",
      "|train|\n",
      "|train|\n",
      "|train|\n",
      "|train|\n",
      "|train|\n",
      "|train|\n",
      "|train|\n",
      "|train|\n",
      "|train|\n",
      "|train|\n",
      "+-----+\n",
      "only showing top 20 rows\n",
      "\n"
     ]
    }
   ],
   "source": [
    "trainDF.select(['Mark']).show()"
   ]
  },
  {
   "cell_type": "code",
   "execution_count": 10,
   "metadata": {},
   "outputs": [],
   "source": [
    "## Add Survived column to test, and dataset name as a column\n",
    "testDF = (testDF.withColumn('Survived',lit(0))\n",
    "                .withColumn('Mark', lit('test')))\n",
    "testDF = testDF[trainDF.columns]\n",
    "\n",
    "## Append Test data to Train data\n",
    "df = trainDF.unionAll(testDF)"
   ]
  },
  {
   "cell_type": "code",
   "execution_count": 11,
   "metadata": {},
   "outputs": [
    {
     "data": {
      "text/plain": [
       "1309"
      ]
     },
     "execution_count": 11,
     "metadata": {},
     "output_type": "execute_result"
    }
   ],
   "source": [
    "df.count()"
   ]
  },
  {
   "cell_type": "code",
   "execution_count": 99,
   "metadata": {},
   "outputs": [
    {
     "name": "stdout",
     "output_type": "stream",
     "text": [
      "+-------+--------------------+------+------------------+-----+--------+-----+-----------------+------------------+------------------+------------------+-------------------+------------------+------------------+------------+\n",
      "|summary|                Name|   Sex|            Ticket|Cabin|Embarked| Mark|      PassengerId|            Pclass|             SibSp|             Parch|           Survived|               Age|              Fare|       Title|\n",
      "+-------+--------------------+------+------------------+-----+--------+-----+-----------------+------------------+------------------+------------------+-------------------+------------------+------------------+------------+\n",
      "|  count|                1309|  1309|              1309|  295|    1309| 1309|             1309|              1309|              1309|              1309|               1309|              1309|              1309|        1309|\n",
      "|   mean|                null|  null| 249039.1368861024| null|    null| null|            655.0| 2.294881588999236|0.4988540870893812|0.3850267379679144| 0.2612681436210848|29.881137703590216|33.295479381603535|        null|\n",
      "| stddev|                null|  null|442685.31767656433| null|    null| null|378.0200611960517|0.8378360189701275|1.0416583905961019|0.8655602753495152|0.43949364010802755|12.883193243698793|   51.738879603451|        null|\n",
      "|    min|\"Andersson, Mr. A...|female|            110152|  A10|       C| test|                1|                 1|                 0|                 0|                  0|              0.17|               0.0|        Capt|\n",
      "|    max|van Melkebeke, Mr...|  male|         WE/P 5735|    T|       S|train|             1309|                 3|                 8|                 9|                  1|              80.0|          512.3292|the Countess|\n",
      "+-------+--------------------+------+------------------+-----+--------+-----+-----------------+------------------+------------------+------------------+-------------------+------------------+------------------+------------+\n",
      "\n"
     ]
    }
   ],
   "source": [
    "df.describe().show()"
   ]
  },
  {
   "cell_type": "code",
   "execution_count": 13,
   "metadata": {},
   "outputs": [
    {
     "data": {
      "text/plain": [
       "['PassengerId',\n",
       " 'Survived',\n",
       " 'Pclass',\n",
       " 'Name',\n",
       " 'Sex',\n",
       " 'Age',\n",
       " 'SibSp',\n",
       " 'Parch',\n",
       " 'Ticket',\n",
       " 'Fare',\n",
       " 'Cabin',\n",
       " 'Embarked',\n",
       " 'Mark']"
      ]
     },
     "execution_count": 13,
     "metadata": {},
     "output_type": "execute_result"
    }
   ],
   "source": [
    "df.columns"
   ]
  },
  {
   "cell_type": "code",
   "execution_count": 14,
   "metadata": {},
   "outputs": [
    {
     "data": {
      "text/plain": [
       "13"
      ]
     },
     "execution_count": 14,
     "metadata": {},
     "output_type": "execute_result"
    }
   ],
   "source": [
    "len(df.columns)"
   ]
  },
  {
   "cell_type": "markdown",
   "metadata": {},
   "source": [
    "# Steps in a Machine Learning Workflow"
   ]
  },
  {
   "cell_type": "markdown",
   "metadata": {},
   "source": [
    "* Data Collection\n",
    "* Data Preprocessing\n",
    "* Feature Engineering\n",
    "* Data format translation\n",
    "* Modeling\n",
    "* Evaluation and Selection"
   ]
  },
  {
   "cell_type": "markdown",
   "metadata": {},
   "source": [
    "## Data Collection"
   ]
  },
  {
   "cell_type": "markdown",
   "metadata": {},
   "source": [
    "* Combiniing Datasets"
   ]
  },
  {
   "cell_type": "markdown",
   "metadata": {},
   "source": [
    "## Data Preprocessing"
   ]
  },
  {
   "cell_type": "markdown",
   "metadata": {},
   "source": [
    "### Exploratory Data Analysis"
   ]
  },
  {
   "cell_type": "markdown",
   "metadata": {},
   "source": [
    "* Statistical Summary\n",
    "* Histograms\n",
    "* Correlations"
   ]
  },
  {
   "cell_type": "markdown",
   "metadata": {},
   "source": [
    "#### What is the schema?"
   ]
  },
  {
   "cell_type": "code",
   "execution_count": 15,
   "metadata": {},
   "outputs": [
    {
     "data": {
      "text/plain": [
       "['PassengerId',\n",
       " 'Survived',\n",
       " 'Pclass',\n",
       " 'Name',\n",
       " 'Sex',\n",
       " 'Age',\n",
       " 'SibSp',\n",
       " 'Parch',\n",
       " 'Ticket',\n",
       " 'Fare',\n",
       " 'Cabin',\n",
       " 'Embarked',\n",
       " 'Mark']"
      ]
     },
     "execution_count": 15,
     "metadata": {},
     "output_type": "execute_result"
    }
   ],
   "source": [
    "df.columns"
   ]
  },
  {
   "cell_type": "code",
   "execution_count": 16,
   "metadata": {},
   "outputs": [
    {
     "name": "stdout",
     "output_type": "stream",
     "text": [
      "root\n",
      " |-- PassengerId: string (nullable = true)\n",
      " |-- Survived: string (nullable = true)\n",
      " |-- Pclass: string (nullable = true)\n",
      " |-- Name: string (nullable = true)\n",
      " |-- Sex: string (nullable = true)\n",
      " |-- Age: string (nullable = true)\n",
      " |-- SibSp: string (nullable = true)\n",
      " |-- Parch: string (nullable = true)\n",
      " |-- Ticket: string (nullable = true)\n",
      " |-- Fare: string (nullable = true)\n",
      " |-- Cabin: string (nullable = true)\n",
      " |-- Embarked: string (nullable = true)\n",
      " |-- Mark: string (nullable = false)\n",
      "\n"
     ]
    }
   ],
   "source": [
    "df.printSchema()"
   ]
  },
  {
   "cell_type": "markdown",
   "metadata": {},
   "source": [
    "#### Which ones are numeric?"
   ]
  },
  {
   "cell_type": "code",
   "execution_count": 17,
   "metadata": {},
   "outputs": [
    {
     "name": "stdout",
     "output_type": "stream",
     "text": [
      "+-----------+--------+------+--------------------+------+---+-----+-----+----------------+-------+-----+--------+-----+\n",
      "|PassengerId|Survived|Pclass|                Name|   Sex|Age|SibSp|Parch|          Ticket|   Fare|Cabin|Embarked| Mark|\n",
      "+-----------+--------+------+--------------------+------+---+-----+-----+----------------+-------+-----+--------+-----+\n",
      "|          1|       0|     3|Braund, Mr. Owen ...|  male| 22|    1|    0|       A/5 21171|   7.25| null|       S|train|\n",
      "|          2|       1|     1|Cumings, Mrs. Joh...|female| 38|    1|    0|        PC 17599|71.2833|  C85|       C|train|\n",
      "|          3|       1|     3|Heikkinen, Miss. ...|female| 26|    0|    0|STON/O2. 3101282|  7.925| null|       S|train|\n",
      "|          4|       1|     1|Futrelle, Mrs. Ja...|female| 35|    1|    0|          113803|   53.1| C123|       S|train|\n",
      "|          5|       0|     3|Allen, Mr. Willia...|  male| 35|    0|    0|          373450|   8.05| null|       S|train|\n",
      "+-----------+--------+------+--------------------+------+---+-----+-----+----------------+-------+-----+--------+-----+\n",
      "only showing top 5 rows\n",
      "\n"
     ]
    }
   ],
   "source": [
    "df.show(5)"
   ]
  },
  {
   "cell_type": "markdown",
   "metadata": {},
   "source": [
    "Here are the variables which should be numeric (float or integer):\n",
    "\n",
    "* PassengerId: Integer\n",
    "* Pclass: Integer\n",
    "* SibSp: Integer\n",
    "* Parch: Integer\n",
    "* Survived: Integer\n",
    "* Age: Float\n",
    "* Fare: Float\n",
    "\n",
    "### Correcting Datatypes"
   ]
  },
  {
   "cell_type": "code",
   "execution_count": 18,
   "metadata": {},
   "outputs": [],
   "source": [
    "# Here is an example\n",
    "df = df.withColumn(\"AgeTmp\", df[\"Age\"].cast(\"float\")) \\\n",
    "    .drop(\"Age\") \\\n",
    "    .withColumnRenamed(\"AgeTmp\", \"Age\")"
   ]
  },
  {
   "cell_type": "code",
   "execution_count": 19,
   "metadata": {},
   "outputs": [],
   "source": [
    "# Let's define function\n",
    "def to_anytype(df, colnames, typename):\n",
    "    for colname in colnames:\n",
    "        df = df.withColumn(\"tmp\", df[colname].cast(typename)) \\\n",
    "        .drop(colname) \\\n",
    "        .withColumnRenamed(\"tmp\", colname)\n",
    "    return(df)"
   ]
  },
  {
   "cell_type": "code",
   "execution_count": 20,
   "metadata": {},
   "outputs": [],
   "source": [
    "intCols = ['PassengerId', 'Pclass', 'SibSp', 'Parch', 'Survived']\n",
    "floatCols = ['Age', 'Fare']\n",
    "\n",
    "df = to_anytype(df, intCols, \"integer\")\n",
    "df = to_anytype(df, floatCols, \"float\")"
   ]
  },
  {
   "cell_type": "code",
   "execution_count": 21,
   "metadata": {},
   "outputs": [
    {
     "name": "stdout",
     "output_type": "stream",
     "text": [
      "root\n",
      " |-- Name: string (nullable = true)\n",
      " |-- Sex: string (nullable = true)\n",
      " |-- Ticket: string (nullable = true)\n",
      " |-- Cabin: string (nullable = true)\n",
      " |-- Embarked: string (nullable = true)\n",
      " |-- Mark: string (nullable = false)\n",
      " |-- PassengerId: integer (nullable = true)\n",
      " |-- Pclass: integer (nullable = true)\n",
      " |-- SibSp: integer (nullable = true)\n",
      " |-- Parch: integer (nullable = true)\n",
      " |-- Survived: integer (nullable = true)\n",
      " |-- Age: float (nullable = true)\n",
      " |-- Fare: float (nullable = true)\n",
      "\n"
     ]
    }
   ],
   "source": [
    "df.printSchema()"
   ]
  },
  {
   "cell_type": "markdown",
   "metadata": {},
   "source": [
    "#### Let's inspect data"
   ]
  },
  {
   "cell_type": "code",
   "execution_count": 22,
   "metadata": {},
   "outputs": [
    {
     "data": {
      "text/plain": [
       "[Row(Name='Braund, Mr. Owen Harris', Sex='male', Ticket='A/5 21171', Cabin=None, Embarked='S', Mark='train', PassengerId=1, Pclass=3, SibSp=1, Parch=0, Survived=0, Age=22.0, Fare=7.25),\n",
       " Row(Name='Cumings, Mrs. John Bradley (Florence Briggs Thayer)', Sex='female', Ticket='PC 17599', Cabin='C85', Embarked='C', Mark='train', PassengerId=2, Pclass=1, SibSp=1, Parch=0, Survived=1, Age=38.0, Fare=71.2833023071289),\n",
       " Row(Name='Heikkinen, Miss. Laina', Sex='female', Ticket='STON/O2. 3101282', Cabin=None, Embarked='S', Mark='train', PassengerId=3, Pclass=3, SibSp=0, Parch=0, Survived=1, Age=26.0, Fare=7.925000190734863),\n",
       " Row(Name='Futrelle, Mrs. Jacques Heath (Lily May Peel)', Sex='female', Ticket='113803', Cabin='C123', Embarked='S', Mark='train', PassengerId=4, Pclass=1, SibSp=1, Parch=0, Survived=1, Age=35.0, Fare=53.099998474121094),\n",
       " Row(Name='Allen, Mr. William Henry', Sex='male', Ticket='373450', Cabin=None, Embarked='S', Mark='train', PassengerId=5, Pclass=3, SibSp=0, Parch=0, Survived=0, Age=35.0, Fare=8.050000190734863)]"
      ]
     },
     "execution_count": 22,
     "metadata": {},
     "output_type": "execute_result"
    }
   ],
   "source": [
    "df.take(5)"
   ]
  },
  {
   "cell_type": "code",
   "execution_count": 23,
   "metadata": {},
   "outputs": [
    {
     "name": "stdout",
     "output_type": "stream",
     "text": [
      "+--------------------+------+----------------+-----+--------+-----+-----------+------+-----+-----+--------+----+-------+\n",
      "|                Name|   Sex|          Ticket|Cabin|Embarked| Mark|PassengerId|Pclass|SibSp|Parch|Survived| Age|   Fare|\n",
      "+--------------------+------+----------------+-----+--------+-----+-----------+------+-----+-----+--------+----+-------+\n",
      "|Braund, Mr. Owen ...|  male|       A/5 21171| null|       S|train|          1|     3|    1|    0|       0|22.0|   7.25|\n",
      "|Cumings, Mrs. Joh...|female|        PC 17599|  C85|       C|train|          2|     1|    1|    0|       1|38.0|71.2833|\n",
      "|Heikkinen, Miss. ...|female|STON/O2. 3101282| null|       S|train|          3|     3|    0|    0|       1|26.0|  7.925|\n",
      "|Futrelle, Mrs. Ja...|female|          113803| C123|       S|train|          4|     1|    1|    0|       1|35.0|   53.1|\n",
      "|Allen, Mr. Willia...|  male|          373450| null|       S|train|          5|     3|    0|    0|       0|35.0|   8.05|\n",
      "+--------------------+------+----------------+-----+--------+-----+-----------+------+-----+-----+--------+----+-------+\n",
      "only showing top 5 rows\n",
      "\n"
     ]
    }
   ],
   "source": [
    "df.show(5)"
   ]
  },
  {
   "cell_type": "markdown",
   "metadata": {},
   "source": [
    "#### Statistical Summary"
   ]
  },
  {
   "cell_type": "code",
   "execution_count": 24,
   "metadata": {},
   "outputs": [
    {
     "name": "stdout",
     "output_type": "stream",
     "text": [
      "+-------+------------------+\n",
      "|summary|               Age|\n",
      "+-------+------------------+\n",
      "|  count|              1046|\n",
      "|   mean|29.881137667305726|\n",
      "| stddev|14.413493211267733|\n",
      "|    min|              0.17|\n",
      "|    max|              80.0|\n",
      "+-------+------------------+\n",
      "\n"
     ]
    }
   ],
   "source": [
    "df.describe('Age').show()"
   ]
  },
  {
   "cell_type": "code",
   "execution_count": 25,
   "metadata": {},
   "outputs": [
    {
     "name": "stdout",
     "output_type": "stream",
     "text": [
      "+-------+------------------+--------------------+\n",
      "|summary|               Age|                Name|\n",
      "+-------+------------------+--------------------+\n",
      "|  count|              1046|                1309|\n",
      "|   mean|29.881137667305726|                null|\n",
      "| stddev|14.413493211267733|                null|\n",
      "|    min|              0.17|\"Andersson, Mr. A...|\n",
      "|    max|              80.0|van Melkebeke, Mr...|\n",
      "+-------+------------------+--------------------+\n",
      "\n"
     ]
    }
   ],
   "source": [
    "df.describe(['Age', 'Name']).show()"
   ]
  },
  {
   "cell_type": "code",
   "execution_count": 26,
   "metadata": {},
   "outputs": [
    {
     "name": "stdout",
     "output_type": "stream",
     "text": [
      "+-------+-----------------+-------------------+------------------+--------------------+------+------------------+------------------+------------------+------------------+-----------------+-----+--------+-----+\n",
      "|summary|      PassengerId|           Survived|            Pclass|                Name|   Sex|               Age|             SibSp|             Parch|            Ticket|             Fare|Cabin|Embarked| Mark|\n",
      "+-------+-----------------+-------------------+------------------+--------------------+------+------------------+------------------+------------------+------------------+-----------------+-----+--------+-----+\n",
      "|  count|             1309|               1309|              1309|                1309|  1309|              1046|              1309|              1309|              1309|             1308|  295|    1307| 1309|\n",
      "|   mean|            655.0| 0.2612681436210848| 2.294881588999236|                null|  null|29.881137667305726|0.4988540870893812|0.3850267379679144| 249039.1368861024|33.29547938203228| null|    null| null|\n",
      "| stddev|378.0200611960517|0.43949364010802755|0.8378360189701275|                null|  null|14.413493211267733|1.0416583905961019|0.8655602753495152|442685.31767656433|51.75866881037215| null|    null| null|\n",
      "|    min|                1|                  0|                 1|\"Andersson, Mr. A...|female|              0.17|                 0|                 0|            110152|              0.0|  A10|       C| test|\n",
      "|    max|             1309|                  1|                 3|van Melkebeke, Mr...|  male|              80.0|                 8|                 9|         WE/P 5735|         512.3292|    T|       S|train|\n",
      "+-------+-----------------+-------------------+------------------+--------------------+------+------------------+------------------+------------------+------------------+-----------------+-----+--------+-----+\n",
      "\n"
     ]
    }
   ],
   "source": [
    "df.describe(trainDF.columns).show()"
   ]
  },
  {
   "cell_type": "code",
   "execution_count": 27,
   "metadata": {},
   "outputs": [
    {
     "name": "stdout",
     "output_type": "stream",
     "text": [
      "+-------+-------------------+------------------+--------------------+\n",
      "|summary|           Survived|            Pclass|                Name|\n",
      "+-------+-------------------+------------------+--------------------+\n",
      "|  count|               1309|              1309|                1309|\n",
      "|   mean| 0.2612681436210848| 2.294881588999236|                null|\n",
      "| stddev|0.43949364010802755|0.8378360189701275|                null|\n",
      "|    min|                  0|                 1|\"Andersson, Mr. A...|\n",
      "|    max|                  1|                 3|van Melkebeke, Mr...|\n",
      "+-------+-------------------+------------------+--------------------+\n",
      "\n"
     ]
    }
   ],
   "source": [
    "df.describe(trainDF.columns[1:4]).show()"
   ]
  },
  {
   "cell_type": "code",
   "execution_count": 28,
   "metadata": {},
   "outputs": [
    {
     "name": "stdout",
     "output_type": "stream",
     "text": [
      "+-------+------------------+------------------+------------------+\n",
      "|summary|               Age|             SibSp|             Parch|\n",
      "+-------+------------------+------------------+------------------+\n",
      "|  count|              1046|              1309|              1309|\n",
      "|   mean|29.881137667305726|0.4988540870893812|0.3850267379679144|\n",
      "| stddev|14.413493211267733|1.0416583905961019|0.8655602753495152|\n",
      "|    min|              0.17|                 0|                 0|\n",
      "|    max|              80.0|                 8|                 9|\n",
      "+-------+------------------+------------------+------------------+\n",
      "\n"
     ]
    }
   ],
   "source": [
    "df.describe(trainDF.columns[5:8]).show()"
   ]
  },
  {
   "cell_type": "code",
   "execution_count": 29,
   "metadata": {},
   "outputs": [
    {
     "name": "stdout",
     "output_type": "stream",
     "text": [
      "+-------+-----------------+-----+--------+\n",
      "|summary|             Fare|Cabin|Embarked|\n",
      "+-------+-----------------+-----+--------+\n",
      "|  count|             1308|  295|    1307|\n",
      "|   mean|33.29547938203228| null|    null|\n",
      "| stddev|51.75866881037215| null|    null|\n",
      "|    min|              0.0|  A10|       C|\n",
      "|    max|         512.3292|    T|       S|\n",
      "+-------+-----------------+-----+--------+\n",
      "\n"
     ]
    }
   ],
   "source": [
    "df.describe(trainDF.columns[9:12]).show()"
   ]
  },
  {
   "cell_type": "markdown",
   "metadata": {},
   "source": [
    "#### Histograms"
   ]
  },
  {
   "cell_type": "markdown",
   "metadata": {},
   "source": [
    "* We need the frequency count of various levels"
   ]
  },
  {
   "cell_type": "code",
   "execution_count": 30,
   "metadata": {},
   "outputs": [
    {
     "name": "stdout",
     "output_type": "stream",
     "text": [
      "+----+-----+\n",
      "| age|count|\n",
      "+----+-----+\n",
      "|null|  177|\n",
      "|0.42|    1|\n",
      "|0.67|    1|\n",
      "|0.75|    2|\n",
      "|0.83|    2|\n",
      "|0.92|    1|\n",
      "|   1|    7|\n",
      "|  10|    2|\n",
      "|  11|    4|\n",
      "|  12|    1|\n",
      "|  13|    2|\n",
      "|  14|    6|\n",
      "|14.5|    1|\n",
      "|  15|    5|\n",
      "|  16|   17|\n",
      "|  17|   13|\n",
      "|  18|   26|\n",
      "|  19|   25|\n",
      "|   2|   10|\n",
      "|  20|   15|\n",
      "|20.5|    1|\n",
      "|  21|   24|\n",
      "|  22|   27|\n",
      "|  23|   15|\n",
      "|23.5|    1|\n",
      "|  24|   30|\n",
      "|24.5|    1|\n",
      "|  25|   23|\n",
      "|  26|   18|\n",
      "|  27|   18|\n",
      "|  28|   25|\n",
      "|28.5|    2|\n",
      "|  29|   20|\n",
      "|   3|    6|\n",
      "|  30|   25|\n",
      "|30.5|    2|\n",
      "|  31|   17|\n",
      "|  32|   18|\n",
      "|32.5|    2|\n",
      "|  33|   15|\n",
      "|  34|   15|\n",
      "|34.5|    1|\n",
      "|  35|   18|\n",
      "|  36|   22|\n",
      "|36.5|    1|\n",
      "|  37|    6|\n",
      "|  38|   11|\n",
      "|  39|   14|\n",
      "|   4|   10|\n",
      "|  40|   13|\n",
      "|40.5|    2|\n",
      "|  41|    6|\n",
      "|  42|   13|\n",
      "|  43|    5|\n",
      "|  44|    9|\n",
      "|  45|   12|\n",
      "|45.5|    2|\n",
      "|  46|    3|\n",
      "|  47|    9|\n",
      "|  48|    9|\n",
      "|  49|    6|\n",
      "|   5|    4|\n",
      "|  50|   10|\n",
      "|  51|    7|\n",
      "|  52|    6|\n",
      "|  53|    1|\n",
      "|  54|    8|\n",
      "|  55|    2|\n",
      "|55.5|    1|\n",
      "|  56|    4|\n",
      "|  57|    2|\n",
      "|  58|    5|\n",
      "|  59|    2|\n",
      "|   6|    3|\n",
      "|  60|    4|\n",
      "|  61|    3|\n",
      "|  62|    4|\n",
      "|  63|    2|\n",
      "|  64|    2|\n",
      "|  65|    3|\n",
      "|  66|    1|\n",
      "|   7|    3|\n",
      "|  70|    2|\n",
      "|70.5|    1|\n",
      "|  71|    2|\n",
      "|  74|    1|\n",
      "|   8|    4|\n",
      "|  80|    1|\n",
      "|   9|    8|\n",
      "+----+-----+\n",
      "\n"
     ]
    }
   ],
   "source": [
    "trainDF.createOrReplaceTempView(\"train\")\n",
    "\n",
    "age_hist = spark.sql(\n",
    "    \"SELECT Age AS age, \\\n",
    "            count(*) AS count \\\n",
    "    FROM train \\\n",
    "    GROUP BY Age \\\n",
    "    ORDER BY Age\")\n",
    "age_hist.show(n=age_hist.count())"
   ]
  },
  {
   "cell_type": "code",
   "execution_count": 31,
   "metadata": {},
   "outputs": [
    {
     "name": "stdout",
     "output_type": "stream",
     "text": [
      "+------------+-----------+-----+\n",
      "|bucket_floor|bucket_name|count|\n",
      "+------------+-----------+-----+\n",
      "|        null|       null|  177|\n",
      "|           0|     0 to 5|   40|\n",
      "|           5|    5 to 10|   22|\n",
      "|          10|   10 to 15|   16|\n",
      "|          15|   15 to 20|   86|\n",
      "|          20|   20 to 25|  114|\n",
      "|          25|   25 to 30|  106|\n",
      "|          30|   30 to 35|   95|\n",
      "|          35|   35 to 40|   72|\n",
      "|          40|   40 to 45|   48|\n",
      "|          45|   45 to 50|   41|\n",
      "|          50|   50 to 55|   32|\n",
      "|          55|   55 to 60|   16|\n",
      "|          60|   60 to 65|   15|\n",
      "|          65|   65 to 70|    4|\n",
      "|          70|   70 to 75|    6|\n",
      "|          80|   80 to 85|    1|\n",
      "+------------+-----------+-----+\n",
      "\n"
     ]
    }
   ],
   "source": [
    "age_hist = spark.sql(\n",
    "    \"SELECT bucket_floor, \\\n",
    "        CONCAT(bucket_floor, ' to ', bucket_ceiling) as bucket_name, \\\n",
    "        count(*) as count \\\n",
    "     FROM ( \\\n",
    "        SELECT floor(Age/5.00)*5 as bucket_floor, \\\n",
    "            floor(Age/5.00)*5 + 5 as bucket_ceiling \\\n",
    "        FROM train \\\n",
    "     ) a \\\n",
    "     GROUP BY 1, 2 \\\n",
    "     ORDER BY 1\")\n",
    "\n",
    "age_hist.show(n=age_hist.count())\n"
   ]
  },
  {
   "cell_type": "code",
   "execution_count": 100,
   "metadata": {
    "collapsed": true
   },
   "outputs": [],
   "source": [
    "def get_column(df, colname):\n",
    "    coldata = df.rdd.map(lambda r: r[colname]).collect()\n",
    "    coldata = ['None' if v is None else v for v in coldata] #replace None values\n",
    "    return(coldata)\n",
    "\n",
    "age = get_column(age_hist, \"bucket_name\")\n",
    "count = get_column(age_hist, \"count\")"
   ]
  },
  {
   "cell_type": "code",
   "execution_count": 101,
   "metadata": {},
   "outputs": [
    {
     "data": {
      "text/plain": [
       "['None',\n",
       " '0 to 5',\n",
       " '5 to 10',\n",
       " '10 to 15',\n",
       " '15 to 20',\n",
       " '20 to 25',\n",
       " '25 to 30',\n",
       " '30 to 35',\n",
       " '35 to 40',\n",
       " '40 to 45',\n",
       " '45 to 50',\n",
       " '50 to 55',\n",
       " '55 to 60',\n",
       " '60 to 65',\n",
       " '65 to 70',\n",
       " '70 to 75',\n",
       " '80 to 85']"
      ]
     },
     "execution_count": 101,
     "metadata": {},
     "output_type": "execute_result"
    }
   ],
   "source": [
    "age"
   ]
  },
  {
   "cell_type": "code",
   "execution_count": 102,
   "metadata": {},
   "outputs": [
    {
     "data": {
      "text/plain": [
       "[177, 40, 22, 16, 86, 114, 106, 95, 72, 48, 41, 32, 16, 15, 4, 6, 1]"
      ]
     },
     "execution_count": 102,
     "metadata": {},
     "output_type": "execute_result"
    }
   ],
   "source": [
    "count"
   ]
  },
  {
   "cell_type": "code",
   "execution_count": 33,
   "metadata": {},
   "outputs": [
    {
     "data": {
      "image/png": "[encoded data removed]",
      "text/plain": [
       "<matplotlib.figure.Figure at 0x11557b390>"
      ]
     },
     "metadata": {},
     "output_type": "display_data"
    }
   ],
   "source": [
    "%matplotlib inline\n",
    "\n",
    "barplt = sns.barplot(age, count)"
   ]
  },
  {
   "cell_type": "code",
   "execution_count": 34,
   "metadata": {},
   "outputs": [
    {
     "data": {
      "image/png": "[encoded data removed]",
      "text/plain": [
       "<matplotlib.figure.Figure at 0x117a87978>"
      ]
     },
     "metadata": {},
     "output_type": "display_data"
    }
   ],
   "source": [
    "%matplotlib inline\n",
    "\n",
    "barplt = sns.barplot(age, count)\n",
    "for item in barplt.get_xticklabels():\n",
    "    item.set_rotation(45)"
   ]
  },
  {
   "cell_type": "markdown",
   "metadata": {},
   "source": [
    "#### Histogram Function"
   ]
  },
  {
   "cell_type": "code",
   "execution_count": 105,
   "metadata": {},
   "outputs": [],
   "source": [
    "def get_column(df, colname):\n",
    "    coldata = df.rdd.map(lambda r: r[colname]).collect()\n",
    "    coldata = ['None' if v is None else v for v in coldata] #replace None values\n",
    "    return(coldata)\n",
    "\n",
    "def histplot(dfname, colname, binsize):\n",
    "    binsize = str(binsize)\n",
    "    dfname.createOrReplaceTempView(\"tmpDF\")\n",
    "    hist_query = \"SELECT bucket_floor, \\\n",
    "        CONCAT(bucket_floor, ' to ', bucket_ceiling) as bucket_name, \\\n",
    "        count(*) as count \\\n",
    "     FROM ( \\\n",
    "        SELECT floor(\" + colname + \"/\" + binsize + \")*\" + binsize + \" as bucket_floor, \\\n",
    "            floor(\" + colname + \"/\" + binsize + \")*\" + binsize + \" + \" + binsize + \" as bucket_ceiling \\\n",
    "        FROM tmpDF \\\n",
    "     ) a \\\n",
    "     GROUP BY 1, 2 \\\n",
    "     ORDER BY 1\"\n",
    "    hist_data = spark.sql(hist_query)\n",
    "    xvar = get_column(hist_data, \"bucket_name\")\n",
    "    count = get_column(hist_data, \"count\")\n",
    "    barplt = sns.barplot(xvar, count)\n",
    "    for item in barplt.get_xticklabels():\n",
    "        item.set_rotation(45)\n",
    "    return(barplt)"
   ]
  },
  {
   "cell_type": "code",
   "execution_count": 106,
   "metadata": {},
   "outputs": [
    {
     "data": {
      "text/plain": [
       "<matplotlib.axes._subplots.AxesSubplot at 0x119e5c9b0>"
      ]
     },
     "execution_count": 106,
     "metadata": {},
     "output_type": "execute_result"
    },
    {
     "data": {
      "image/png": "[encoded data removed]",
      "text/plain": [
       "<matplotlib.figure.Figure at 0x119e20390>"
      ]
     },
     "metadata": {},
     "output_type": "display_data"
    }
   ],
   "source": [
    "histplot(df, \"Age\", 5)"
   ]
  },
  {
   "cell_type": "code",
   "execution_count": 37,
   "metadata": {},
   "outputs": [
    {
     "data": {
      "text/plain": [
       "<matplotlib.axes._subplots.AxesSubplot at 0x117a87f98>"
      ]
     },
     "execution_count": 37,
     "metadata": {},
     "output_type": "execute_result"
    },
    {
     "data": {
      "image/png": "[encoded data removed]",
      "text/plain": [
       "<matplotlib.figure.Figure at 0x1185994e0>"
      ]
     },
     "metadata": {},
     "output_type": "display_data"
    }
   ],
   "source": [
    "histplot(df, \"Age\", 10)"
   ]
  },
  {
   "cell_type": "markdown",
   "metadata": {},
   "source": [
    "#### All Histograms"
   ]
  },
  {
   "cell_type": "markdown",
   "metadata": {},
   "source": [
    "* Play with various binsizes"
   ]
  },
  {
   "cell_type": "code",
   "execution_count": 38,
   "metadata": {},
   "outputs": [
    {
     "name": "stdout",
     "output_type": "stream",
     "text": [
      "root\n",
      " |-- Name: string (nullable = true)\n",
      " |-- Sex: string (nullable = true)\n",
      " |-- Ticket: string (nullable = true)\n",
      " |-- Cabin: string (nullable = true)\n",
      " |-- Embarked: string (nullable = true)\n",
      " |-- Mark: string (nullable = false)\n",
      " |-- PassengerId: integer (nullable = true)\n",
      " |-- Pclass: integer (nullable = true)\n",
      " |-- SibSp: integer (nullable = true)\n",
      " |-- Parch: integer (nullable = true)\n",
      " |-- Survived: integer (nullable = true)\n",
      " |-- Age: float (nullable = true)\n",
      " |-- Fare: float (nullable = true)\n",
      "\n"
     ]
    }
   ],
   "source": [
    "df.printSchema()"
   ]
  },
  {
   "cell_type": "code",
   "execution_count": 39,
   "metadata": {},
   "outputs": [
    {
     "data": {
      "text/plain": [
       "<matplotlib.axes._subplots.AxesSubplot at 0x118753470>"
      ]
     },
     "execution_count": 39,
     "metadata": {},
     "output_type": "execute_result"
    },
    {
     "data": {
      "image/png": "[encoded data removed]",
      "text/plain": [
       "<matplotlib.figure.Figure at 0x1187464e0>"
      ]
     },
     "metadata": {},
     "output_type": "display_data"
    }
   ],
   "source": [
    "histplot(df, \"Age\", 5)"
   ]
  },
  {
   "cell_type": "code",
   "execution_count": 40,
   "metadata": {},
   "outputs": [
    {
     "data": {
      "text/plain": [
       "<matplotlib.axes._subplots.AxesSubplot at 0x1179bfe48>"
      ]
     },
     "execution_count": 40,
     "metadata": {},
     "output_type": "execute_result"
    },
    {
     "data": {
      "image/png": "[encoded data removed]",
      "text/plain": [
       "<matplotlib.figure.Figure at 0x117ab0320>"
      ]
     },
     "metadata": {},
     "output_type": "display_data"
    }
   ],
   "source": [
    "histplot(df, \"Survived\", 5)"
   ]
  },
  {
   "cell_type": "code",
   "execution_count": 41,
   "metadata": {},
   "outputs": [
    {
     "data": {
      "text/plain": [
       "<matplotlib.axes._subplots.AxesSubplot at 0x118786f98>"
      ]
     },
     "execution_count": 41,
     "metadata": {},
     "output_type": "execute_result"
    },
    {
     "data": {
      "image/png": "[encoded data removed]",
      "text/plain": [
       "<matplotlib.figure.Figure at 0x11875f2e8>"
      ]
     },
     "metadata": {},
     "output_type": "display_data"
    }
   ],
   "source": [
    "histplot(df, \"Survived\", 1)"
   ]
  },
  {
   "cell_type": "code",
   "execution_count": 42,
   "metadata": {},
   "outputs": [
    {
     "data": {
      "text/plain": [
       "<matplotlib.axes._subplots.AxesSubplot at 0x1187a0e10>"
      ]
     },
     "execution_count": 42,
     "metadata": {},
     "output_type": "execute_result"
    },
    {
     "data": {
      "image/png": "[encoded data removed]",
      "text/plain": [
       "<matplotlib.figure.Figure at 0x1187c7898>"
      ]
     },
     "metadata": {},
     "output_type": "display_data"
    }
   ],
   "source": [
    "histplot(df, \"Pclass\", 1)"
   ]
  },
  {
   "cell_type": "code",
   "execution_count": 43,
   "metadata": {},
   "outputs": [
    {
     "data": {
      "text/plain": [
       "<matplotlib.axes._subplots.AxesSubplot at 0x118b95550>"
      ]
     },
     "execution_count": 43,
     "metadata": {},
     "output_type": "execute_result"
    },
    {
     "data": {
      "image/png": "[encoded data removed]",
      "text/plain": [
       "<matplotlib.figure.Figure at 0x118b9dbe0>"
      ]
     },
     "metadata": {},
     "output_type": "display_data"
    }
   ],
   "source": [
    "histplot(df, \"SibSp\", 1)"
   ]
  },
  {
   "cell_type": "code",
   "execution_count": 44,
   "metadata": {},
   "outputs": [
    {
     "data": {
      "text/plain": [
       "<matplotlib.axes._subplots.AxesSubplot at 0x118ec7b38>"
      ]
     },
     "execution_count": 44,
     "metadata": {},
     "output_type": "execute_result"
    },
    {
     "data": {
      "image/png": "[encoded data removed]",
      "text/plain": [
       "<matplotlib.figure.Figure at 0x118f4e4e0>"
      ]
     },
     "metadata": {},
     "output_type": "display_data"
    }
   ],
   "source": [
    "histplot(df, \"Parch\", 1)"
   ]
  },
  {
   "cell_type": "code",
   "execution_count": 45,
   "metadata": {},
   "outputs": [
    {
     "data": {
      "text/plain": [
       "<matplotlib.axes._subplots.AxesSubplot at 0x118ef9978>"
      ]
     },
     "execution_count": 45,
     "metadata": {},
     "output_type": "execute_result"
    },
    {
     "data": {
      "image/png": "[encoded data removed]",
      "text/plain": [
       "<matplotlib.figure.Figure at 0x118f55a20>"
      ]
     },
     "metadata": {},
     "output_type": "display_data"
    }
   ],
   "source": [
    "histplot(df, \"Age\", 5)"
   ]
  },
  {
   "cell_type": "code",
   "execution_count": 46,
   "metadata": {},
   "outputs": [
    {
     "data": {
      "text/plain": [
       "<matplotlib.axes._subplots.AxesSubplot at 0x118b80da0>"
      ]
     },
     "execution_count": 46,
     "metadata": {},
     "output_type": "execute_result"
    },
    {
     "data": {
      "image/png": "[encoded data removed]",
      "text/plain": [
       "<matplotlib.figure.Figure at 0x11921b9b0>"
      ]
     },
     "metadata": {},
     "output_type": "display_data"
    }
   ],
   "source": [
    "histplot(df, \"Fare\", 5)"
   ]
  },
  {
   "cell_type": "code",
   "execution_count": 47,
   "metadata": {},
   "outputs": [
    {
     "data": {
      "text/plain": [
       "<matplotlib.axes._subplots.AxesSubplot at 0x1195b1908>"
      ]
     },
     "execution_count": 47,
     "metadata": {},
     "output_type": "execute_result"
    },
    {
     "data": {
      "image/png": "[encoded data removed]",
      "text/plain": [
       "<matplotlib.figure.Figure at 0x119378f60>"
      ]
     },
     "metadata": {},
     "output_type": "display_data"
    }
   ],
   "source": [
    "histplot(df, \"Fare\", 10)"
   ]
  },
  {
   "cell_type": "markdown",
   "metadata": {},
   "source": [
    "Let's test with a categorical variable."
   ]
  },
  {
   "cell_type": "code",
   "execution_count": 48,
   "metadata": {},
   "outputs": [
    {
     "data": {
      "text/plain": [
       "<matplotlib.axes._subplots.AxesSubplot at 0x119776048>"
      ]
     },
     "execution_count": 48,
     "metadata": {},
     "output_type": "execute_result"
    },
    {
     "data": {
      "image/png": "[encoded data removed]",
      "text/plain": [
       "<matplotlib.figure.Figure at 0x11977bd68>"
      ]
     },
     "metadata": {},
     "output_type": "display_data"
    }
   ],
   "source": [
    "histplot(trainDF, \"Embarked\", 1)"
   ]
  },
  {
   "cell_type": "code",
   "execution_count": 49,
   "metadata": {
    "collapsed": true
   },
   "outputs": [],
   "source": [
    "def histplot_s(df, colname):\n",
    "    xvar = get_column(df, colname)\n",
    "    counter = collections.Counter(xvar)\n",
    "    barplt = sns.barplot(list(counter.keys()), list(counter.values()))\n",
    "    for item in barplt.get_xticklabels():\n",
    "        item.set_rotation(45)\n",
    "    return(barplt)"
   ]
  },
  {
   "cell_type": "code",
   "execution_count": 50,
   "metadata": {},
   "outputs": [
    {
     "data": {
      "text/plain": [
       "<matplotlib.axes._subplots.AxesSubplot at 0x119a39b70>"
      ]
     },
     "execution_count": 50,
     "metadata": {},
     "output_type": "execute_result"
    },
    {
     "data": {
      "image/png": "[encoded data removed]",
      "text/plain": [
       "<matplotlib.figure.Figure at 0x1195d8c88>"
      ]
     },
     "metadata": {},
     "output_type": "display_data"
    }
   ],
   "source": [
    "histplot_s(df, \"Sex\")"
   ]
  },
  {
   "cell_type": "code",
   "execution_count": 51,
   "metadata": {},
   "outputs": [
    {
     "data": {
      "text/plain": [
       "<matplotlib.axes._subplots.AxesSubplot at 0x119a4a080>"
      ]
     },
     "execution_count": 51,
     "metadata": {},
     "output_type": "execute_result"
    },
    {
     "data": {
      "image/png": "[encoded data removed]",
      "text/plain": [
       "<matplotlib.figure.Figure at 0x119b45978>"
      ]
     },
     "metadata": {},
     "output_type": "display_data"
    }
   ],
   "source": [
    "histplot_s(df, \"Embarked\")"
   ]
  },
  {
   "cell_type": "markdown",
   "metadata": {},
   "source": [
    "#### Correlations"
   ]
  },
  {
   "cell_type": "code",
   "execution_count": 52,
   "metadata": {},
   "outputs": [
    {
     "data": {
      "text/plain": [
       "0.21349686667435705"
      ]
     },
     "execution_count": 52,
     "metadata": {},
     "output_type": "execute_result"
    }
   ],
   "source": [
    "df.corr(\"Age\", \"Fare\")"
   ]
  },
  {
   "cell_type": "code",
   "execution_count": 53,
   "metadata": {},
   "outputs": [
    {
     "data": {
      "text/plain": [
       "0.005296468730662053"
      ]
     },
     "execution_count": 53,
     "metadata": {},
     "output_type": "execute_result"
    }
   ],
   "source": [
    "df.corr(\"Age\", \"Survived\")"
   ]
  },
  {
   "cell_type": "code",
   "execution_count": 54,
   "metadata": {},
   "outputs": [
    {
     "data": {
      "text/plain": [
       "0.1738945206553876"
      ]
     },
     "execution_count": 54,
     "metadata": {},
     "output_type": "execute_result"
    }
   ],
   "source": [
    "df.corr(\"Fare\", \"Survived\")"
   ]
  },
  {
   "cell_type": "markdown",
   "metadata": {},
   "source": [
    "Currently, only *pearson* is supported."
   ]
  },
  {
   "cell_type": "markdown",
   "metadata": {},
   "source": [
    "### Missing Value Imputation"
   ]
  },
  {
   "cell_type": "code",
   "execution_count": 55,
   "metadata": {},
   "outputs": [],
   "source": [
    "numVars = ['Survived','Age','SibSp','Parch','Fare']\n",
    "stringVars = ['Cabin', 'Embarked', 'Pclass', 'Sex']\n",
    "\n",
    "def countNull(df, var):\n",
    "    return df.where(df[var].isNull()).count()\n",
    "\n",
    "def countEmptyString(df, var):\n",
    "    return df[df[var].isin(\"\")].count()\n",
    "\n",
    "def countZero(df, var):\n",
    "    return df[df[var].isin(0)].count()"
   ]
  },
  {
   "cell_type": "code",
   "execution_count": 56,
   "metadata": {},
   "outputs": [
    {
     "data": {
      "text/plain": [
       "{'Age': 263,\n",
       " 'Cabin': 1014,\n",
       " 'Embarked': 2,\n",
       " 'Fare': 1,\n",
       " 'Mark': 0,\n",
       " 'Name': 0,\n",
       " 'Parch': 0,\n",
       " 'PassengerId': 0,\n",
       " 'Pclass': 0,\n",
       " 'Sex': 0,\n",
       " 'SibSp': 0,\n",
       " 'Survived': 0,\n",
       " 'Ticket': 0}"
      ]
     },
     "execution_count": 56,
     "metadata": {},
     "output_type": "execute_result"
    }
   ],
   "source": [
    "missing = {var: countNull(df, var) for var in df.columns}\n",
    "missing"
   ]
  },
  {
   "cell_type": "code",
   "execution_count": 57,
   "metadata": {},
   "outputs": [
    {
     "data": {
      "text/plain": [
       "{'Age': 0,\n",
       " 'Cabin': 0,\n",
       " 'Embarked': 0,\n",
       " 'Fare': 0,\n",
       " 'Mark': 0,\n",
       " 'Name': 0,\n",
       " 'Parch': 0,\n",
       " 'PassengerId': 0,\n",
       " 'Pclass': 0,\n",
       " 'Sex': 0,\n",
       " 'SibSp': 0,\n",
       " 'Survived': 0,\n",
       " 'Ticket': 0}"
      ]
     },
     "execution_count": 57,
     "metadata": {},
     "output_type": "execute_result"
    }
   ],
   "source": [
    "missing = {var: countEmptyString(df, var) for var in df.columns}\n",
    "missing"
   ]
  },
  {
   "cell_type": "code",
   "execution_count": 58,
   "metadata": {},
   "outputs": [
    {
     "data": {
      "text/plain": [
       "{'Age': 0,\n",
       " 'Cabin': 0,\n",
       " 'Embarked': 0,\n",
       " 'Fare': 17,\n",
       " 'Mark': 0,\n",
       " 'Name': 0,\n",
       " 'Parch': 1002,\n",
       " 'PassengerId': 0,\n",
       " 'Pclass': 0,\n",
       " 'Sex': 0,\n",
       " 'SibSp': 891,\n",
       " 'Survived': 967,\n",
       " 'Ticket': 0}"
      ]
     },
     "execution_count": 58,
     "metadata": {},
     "output_type": "execute_result"
    }
   ],
   "source": [
    "missing = {var: countZero(df, var) for var in df.columns}\n",
    "missing"
   ]
  },
  {
   "cell_type": "code",
   "execution_count": 59,
   "metadata": {},
   "outputs": [
    {
     "data": {
      "text/plain": [
       "Row(avg(Age)=29.881137667305726)"
      ]
     },
     "execution_count": 59,
     "metadata": {},
     "output_type": "execute_result"
    }
   ],
   "source": [
    "age_mean = df.groupBy().mean('Age').first()\n",
    "age_mean"
   ]
  },
  {
   "cell_type": "code",
   "execution_count": 60,
   "metadata": {},
   "outputs": [
    {
     "data": {
      "text/plain": [
       "29.881137667305726"
      ]
     },
     "execution_count": 60,
     "metadata": {},
     "output_type": "execute_result"
    }
   ],
   "source": [
    "age_mean[0]"
   ]
  },
  {
   "cell_type": "code",
   "execution_count": 61,
   "metadata": {},
   "outputs": [
    {
     "data": {
      "text/plain": [
       "(29.881137667305726, 33.29547938203228)"
      ]
     },
     "execution_count": 61,
     "metadata": {},
     "output_type": "execute_result"
    }
   ],
   "source": [
    "age_mean = df.groupBy().mean('Age').first()[0]\n",
    "fare_mean = df.groupBy().mean('Fare').first()[0]\n",
    "age_mean, fare_mean"
   ]
  },
  {
   "cell_type": "code",
   "execution_count": 62,
   "metadata": {},
   "outputs": [],
   "source": [
    "df = df.na.fill({'Age':age_mean,'Fare':fare_mean, 'Embarked':'S'})"
   ]
  },
  {
   "cell_type": "markdown",
   "metadata": {},
   "source": [
    "**What is wrong with what I just did?** How to fix it? (Replace `df` with ...)"
   ]
  },
  {
   "cell_type": "markdown",
   "metadata": {},
   "source": [
    "### Outlier Treatment"
   ]
  },
  {
   "cell_type": "markdown",
   "metadata": {},
   "source": [
    "* Univariate\n",
    "    - Winsorization\n",
    "* Multivariate\n",
    "\n",
    "* Is it a good idea?\n",
    "* Know your data"
   ]
  },
  {
   "cell_type": "markdown",
   "metadata": {},
   "source": [
    "## Feature Engineering"
   ]
  },
  {
   "cell_type": "markdown",
   "metadata": {},
   "source": [
    "### Applying Domain Expertise"
   ]
  },
  {
   "cell_type": "code",
   "execution_count": 63,
   "metadata": {},
   "outputs": [
    {
     "name": "stdout",
     "output_type": "stream",
     "text": [
      "+--------------------+---------------+\n",
      "|                Name|          Title|\n",
      "+--------------------+---------------+\n",
      "|Braund, Mr. Owen ...|     Braund, Mr|\n",
      "|Cumings, Mrs. Joh...|   Cumings, Mrs|\n",
      "|Heikkinen, Miss. ...|Heikkinen, Miss|\n",
      "|Futrelle, Mrs. Ja...|  Futrelle, Mrs|\n",
      "|Allen, Mr. Willia...|      Allen, Mr|\n",
      "+--------------------+---------------+\n",
      "only showing top 5 rows\n",
      "\n"
     ]
    }
   ],
   "source": [
    "from pyspark.sql.functions import udf\n",
    "from pyspark.sql.types import StringType\n",
    " \n",
    "## create user defined function to extract title\n",
    "getTitle = udf(lambda name: name.split('.')[0].strip(), StringType())\n",
    "df = df.withColumn('Title', getTitle(df['Name']))\n",
    " \n",
    "df.select('Name','Title').show(5)"
   ]
  },
  {
   "cell_type": "code",
   "execution_count": 107,
   "metadata": {},
   "outputs": [
    {
     "name": "stdout",
     "output_type": "stream",
     "text": [
      "+--------------------+------+\n",
      "|                Name| Title|\n",
      "+--------------------+------+\n",
      "|Braund, Mr. Owen ...|    Mr|\n",
      "|Cumings, Mrs. Joh...|   Mrs|\n",
      "|Heikkinen, Miss. ...|  Miss|\n",
      "|Futrelle, Mrs. Ja...|   Mrs|\n",
      "|Allen, Mr. Willia...|    Mr|\n",
      "|    Moran, Mr. James|    Mr|\n",
      "|McCarthy, Mr. Tim...|    Mr|\n",
      "|Palsson, Master. ...|Master|\n",
      "|Johnson, Mrs. Osc...|   Mrs|\n",
      "|Nasser, Mrs. Nich...|   Mrs|\n",
      "|Sandstrom, Miss. ...|  Miss|\n",
      "|Bonnell, Miss. El...|  Miss|\n",
      "|Saundercock, Mr. ...|    Mr|\n",
      "|Andersson, Mr. An...|    Mr|\n",
      "|Vestrom, Miss. Hu...|  Miss|\n",
      "+--------------------+------+\n",
      "only showing top 15 rows\n",
      "\n"
     ]
    }
   ],
   "source": [
    "getTitle = udf(lambda name: name.split('.')[0].split(',')[1].strip(), StringType())\n",
    "df = df.withColumn('Title', getTitle(df['Name']))\n",
    " \n",
    "df.select('Name','Title').show(15)"
   ]
  },
  {
   "cell_type": "markdown",
   "metadata": {},
   "source": [
    "### Categorical Variable treatment"
   ]
  },
  {
   "cell_type": "markdown",
   "metadata": {},
   "source": [
    "**Some algorithms can handle categorical variables directly, some can't.**"
   ]
  },
  {
   "cell_type": "markdown",
   "metadata": {},
   "source": [
    "* Label Encoder\n",
    "    - It is used to transform non-numerical labels to numerical labels (or nominal categorical variables)\n",
    "    - Numerical labels are always between 0 and n_classes-1\n",
    "    - May introduce spurious relationship\n",
    "        * Age and City\n",
    "* One Hot Encoding\n",
    "    - Encodes categorical integer features using a one-hot aka one-of-K scheme\n",
    "    - Preferable"
   ]
  },
  {
   "cell_type": "markdown",
   "metadata": {},
   "source": [
    "#### Label Encoding (Indexing)"
   ]
  },
  {
   "cell_type": "code",
   "execution_count": 65,
   "metadata": {
    "collapsed": true
   },
   "outputs": [],
   "source": [
    "catVars = ['Pclass','Sex','Embarked','Title']\n",
    " \n",
    "## index Sex variable\n",
    "si = StringIndexer(inputCol = 'Sex', outputCol = 'Sex_indexed')\n",
    "df_indexed = si.fit(df).transform(df).drop('Sex').withColumnRenamed('Sex_indexed','Sex')"
   ]
  },
  {
   "cell_type": "code",
   "execution_count": 109,
   "metadata": {},
   "outputs": [
    {
     "name": "stdout",
     "output_type": "stream",
     "text": [
      "+-----+--------+---------+-----+-----+-------+--------------+-----------+----------------+-------------+\n",
      "| Mark|Survived|      Age|SibSp|Parch|   Fare|Pclass_indexed|Sex_indexed|Embarked_indexed|Title_indexed|\n",
      "+-----+--------+---------+-----+-----+-------+--------------+-----------+----------------+-------------+\n",
      "|train|       0|     22.0|    1|    0|   7.25|           0.0|        0.0|             0.0|          0.0|\n",
      "|train|       1|     38.0|    1|    0|71.2833|           1.0|        1.0|             1.0|          2.0|\n",
      "|train|       1|     26.0|    0|    0|  7.925|           0.0|        1.0|             0.0|          1.0|\n",
      "|train|       1|     35.0|    1|    0|   53.1|           1.0|        1.0|             0.0|          2.0|\n",
      "|train|       0|     35.0|    0|    0|   8.05|           0.0|        0.0|             0.0|          0.0|\n",
      "|train|       0|29.881138|    0|    0| 8.4583|           0.0|        0.0|             2.0|          0.0|\n",
      "|train|       0|     54.0|    0|    0|51.8625|           1.0|        0.0|             0.0|          0.0|\n",
      "|train|       0|      2.0|    3|    1| 21.075|           0.0|        0.0|             0.0|          3.0|\n",
      "|train|       1|     27.0|    0|    2|11.1333|           0.0|        1.0|             0.0|          2.0|\n",
      "|train|       1|     14.0|    1|    0|30.0708|           2.0|        1.0|             1.0|          2.0|\n",
      "|train|       1|      4.0|    1|    1|   16.7|           0.0|        1.0|             0.0|          1.0|\n",
      "|train|       1|     58.0|    0|    0|  26.55|           1.0|        1.0|             0.0|          1.0|\n",
      "|train|       0|     20.0|    0|    0|   8.05|           0.0|        0.0|             0.0|          0.0|\n",
      "|train|       0|     39.0|    1|    5| 31.275|           0.0|        0.0|             0.0|          0.0|\n",
      "|train|       0|     14.0|    0|    0| 7.8542|           0.0|        1.0|             0.0|          1.0|\n",
      "+-----+--------+---------+-----+-----+-------+--------------+-----------+----------------+-------------+\n",
      "only showing top 15 rows\n",
      "\n"
     ]
    }
   ],
   "source": [
    "df_indexed.show(15)"
   ]
  },
  {
   "cell_type": "code",
   "execution_count": 110,
   "metadata": {},
   "outputs": [],
   "source": [
    "catVars = ['Pclass','Sex', 'Embarked', 'Title']\n",
    "\n",
    "# make use of pipeline to index all categorical variables\n",
    "def indexer(col, df=df):\n",
    "    si = StringIndexer(inputCol = col, outputCol = col+'_indexed')\n",
    "    return si\n",
    " \n",
    "indexers = [indexer(col) for col in catVars]"
   ]
  },
  {
   "cell_type": "code",
   "execution_count": 111,
   "metadata": {},
   "outputs": [
    {
     "data": {
      "text/plain": [
       "[StringIndexer_41a9b87003464fd0ab81,\n",
       " StringIndexer_46dc8cca3ce19c8c2c76,\n",
       " StringIndexer_46c1ad39d28c0d83a1c4,\n",
       " StringIndexer_4f7aa3c2a9fb272aceb2]"
      ]
     },
     "execution_count": 111,
     "metadata": {},
     "output_type": "execute_result"
    }
   ],
   "source": [
    "indexers"
   ]
  },
  {
   "cell_type": "code",
   "execution_count": 68,
   "metadata": {},
   "outputs": [
    {
     "name": "stdout",
     "output_type": "stream",
     "text": [
      "+--------+----------------+\n",
      "|Embarked|Embarked_indexed|\n",
      "+--------+----------------+\n",
      "|       S|             0.0|\n",
      "|       C|             1.0|\n",
      "|       S|             0.0|\n",
      "+--------+----------------+\n",
      "only showing top 3 rows\n",
      "\n"
     ]
    }
   ],
   "source": [
    "pipeline = Pipeline(stages = indexers)\n",
    "df_indexed = pipeline.fit(df).transform(df)\n",
    "\n",
    "df_indexed.select('Embarked','Embarked_indexed').show(3)"
   ]
  },
  {
   "cell_type": "markdown",
   "metadata": {},
   "source": [
    "* The categorical features are indexed in resulting data\n",
    "* Embarked is mapped S=>0, C=>1, Q=>2"
   ]
  },
  {
   "cell_type": "markdown",
   "metadata": {},
   "source": [
    "#### StringIndexer\n",
    "\n",
    "* Maps a string column of labels to a column of label indices\n",
    "* If the input column is numeric, we cast it to string and index the string values\n",
    "* The indices are in [0, numLabels), ordered by label frequencies\n",
    "    - So the most frequent label gets index 0."
   ]
  },
  {
   "cell_type": "markdown",
   "metadata": {},
   "source": [
    "#### Transformer\n",
    "\n",
    "* transform one dataset into another"
   ]
  },
  {
   "cell_type": "markdown",
   "metadata": {},
   "source": [
    "#### Estimator\n",
    "\n",
    "* fit models to data"
   ]
  },
  {
   "cell_type": "markdown",
   "metadata": {},
   "source": [
    "#### Pipelines\n",
    "\n",
    " \n",
    "* A Pipeline consists of a sequence of stages, each of which is either an Estimator or a Transformer\n",
    "* When Pipeline.fit() is called, the stages are executed in order\n",
    "    - If a stage is an Estimator, its Estimator.fit() method will be called on the input dataset to fit a model\n",
    "        * Then the model, which is a transformer, will be used to transform the dataset as the input to the next stage\n",
    "    - If a stage is a Transformer, its Transformer.transform() method will be called to produce the dataset for the next stage\n",
    "* The fitted model from a Pipeline is a PipelineModel, which consists of fitted models and transformers, corresponding to the pipeline stages\n",
    "* If there are no stages, the pipeline acts as an identity transformer."
   ]
  },
  {
   "cell_type": "markdown",
   "metadata": {},
   "source": [
    "### Timeseries Variable treatments"
   ]
  },
  {
   "cell_type": "markdown",
   "metadata": {},
   "source": [
    "* Shattering\n",
    "* No time/day variables here"
   ]
  },
  {
   "cell_type": "markdown",
   "metadata": {},
   "source": [
    "## Data format translation"
   ]
  },
  {
   "cell_type": "markdown",
   "metadata": {},
   "source": [
    "* In this step, we get the data in the format or data type expected by the algorithms\n",
    "* In the case of Spark MLlib, this includes \n",
    "    - local vector\n",
    "    - dense or sparse vectors\n",
    "    - labeled points\n",
    "    - local matrix\n",
    "    - distributed matrix with row matrix\n",
    "    - indexed row matrix\n",
    "    - coordinate matrix\n",
    "    - block matrix"
   ]
  },
  {
   "cell_type": "markdown",
   "metadata": {},
   "source": [
    "In our case, we need convert features to Vectors (either SparseVector or DenseVector)."
   ]
  },
  {
   "cell_type": "code",
   "execution_count": 69,
   "metadata": {
    "collapsed": true
   },
   "outputs": [],
   "source": [
    "from pyspark.sql import Row\n",
    "from pyspark.ml.linalg import DenseVector"
   ]
  },
  {
   "cell_type": "code",
   "execution_count": 70,
   "metadata": {},
   "outputs": [
    {
     "data": {
      "text/plain": [
       "['Pclass_indexed', 'Sex_indexed', 'Embarked_indexed', 'Title_indexed']"
      ]
     },
     "execution_count": 70,
     "metadata": {},
     "output_type": "execute_result"
    }
   ],
   "source": [
    "catVarsIndexed = [i + '_indexed' for i in catVars]\n",
    "catVarsIndexed"
   ]
  },
  {
   "cell_type": "code",
   "execution_count": 71,
   "metadata": {},
   "outputs": [
    {
     "data": {
      "text/plain": [
       "['Survived',\n",
       " 'Age',\n",
       " 'SibSp',\n",
       " 'Parch',\n",
       " 'Fare',\n",
       " 'Pclass_indexed',\n",
       " 'Sex_indexed',\n",
       " 'Embarked_indexed',\n",
       " 'Title_indexed']"
      ]
     },
     "execution_count": 71,
     "metadata": {},
     "output_type": "execute_result"
    }
   ],
   "source": [
    "featuresCol = numVars + catVarsIndexed\n",
    "featuresCol"
   ]
  },
  {
   "cell_type": "code",
   "execution_count": 72,
   "metadata": {},
   "outputs": [
    {
     "data": {
      "text/plain": [
       "['Age',\n",
       " 'SibSp',\n",
       " 'Parch',\n",
       " 'Fare',\n",
       " 'Pclass_indexed',\n",
       " 'Sex_indexed',\n",
       " 'Embarked_indexed',\n",
       " 'Title_indexed']"
      ]
     },
     "execution_count": 72,
     "metadata": {},
     "output_type": "execute_result"
    }
   ],
   "source": [
    "featuresCol.remove('Survived')\n",
    "featuresCol"
   ]
  },
  {
   "cell_type": "code",
   "execution_count": 73,
   "metadata": {},
   "outputs": [
    {
     "data": {
      "text/plain": [
       "['Mark', 'Survived']"
      ]
     },
     "execution_count": 73,
     "metadata": {},
     "output_type": "execute_result"
    }
   ],
   "source": [
    "labelCol = ['Mark','Survived']\n",
    "labelCol"
   ]
  },
  {
   "cell_type": "code",
   "execution_count": 74,
   "metadata": {},
   "outputs": [
    {
     "data": {
      "text/plain": [
       "<Row(mark, label, features)>"
      ]
     },
     "execution_count": 74,
     "metadata": {},
     "output_type": "execute_result"
    }
   ],
   "source": [
    "row = Row('mark','label','features') \n",
    "row"
   ]
  },
  {
   "cell_type": "code",
   "execution_count": 75,
   "metadata": {},
   "outputs": [
    {
     "data": {
      "text/plain": [
       "DataFrame[Mark: string, Survived: int, Age: float, SibSp: int, Parch: int, Fare: float, Pclass_indexed: double, Sex_indexed: double, Embarked_indexed: double, Title_indexed: double]"
      ]
     },
     "execution_count": 75,
     "metadata": {},
     "output_type": "execute_result"
    }
   ],
   "source": [
    "df_indexed = df_indexed[labelCol + featuresCol]\n",
    "df_indexed"
   ]
  },
  {
   "cell_type": "code",
   "execution_count": 76,
   "metadata": {},
   "outputs": [
    {
     "name": "stdout",
     "output_type": "stream",
     "text": [
      "+-----+-----+--------------------+\n",
      "| mark|label|            features|\n",
      "+-----+-----+--------------------+\n",
      "|train|    0|[22.0,1.0,0.0,7.2...|\n",
      "|train|    1|[38.0,1.0,0.0,71....|\n",
      "|train|    1|[26.0,0.0,0.0,7.9...|\n",
      "|train|    1|[35.0,1.0,0.0,53....|\n",
      "|train|    0|[35.0,0.0,0.0,8.0...|\n",
      "|train|    0|[29.8811378479003...|\n",
      "|train|    0|[54.0,0.0,0.0,51....|\n",
      "|train|    0|[2.0,3.0,1.0,21.0...|\n",
      "|train|    1|[27.0,0.0,2.0,11....|\n",
      "|train|    1|[14.0,1.0,0.0,30....|\n",
      "|train|    1|[4.0,1.0,1.0,16.7...|\n",
      "|train|    1|[58.0,0.0,0.0,26....|\n",
      "|train|    0|[20.0,0.0,0.0,8.0...|\n",
      "|train|    0|[39.0,1.0,5.0,31....|\n",
      "|train|    0|[14.0,0.0,0.0,7.8...|\n",
      "|train|    1|[55.0,0.0,0.0,16....|\n",
      "|train|    0|[2.0,4.0,1.0,29.1...|\n",
      "|train|    1|[29.8811378479003...|\n",
      "|train|    0|[31.0,1.0,0.0,18....|\n",
      "|train|    1|[29.8811378479003...|\n",
      "+-----+-----+--------------------+\n",
      "only showing top 20 rows\n",
      "\n"
     ]
    }
   ],
   "source": [
    "# 0-mark, 1-label, 2-features\n",
    "# map features to DenseVector\n",
    "lf = df_indexed.rdd.map(lambda r: (row(r[0], r[1], DenseVector(r[2:])))).toDF()\n",
    "lf.show()"
   ]
  },
  {
   "cell_type": "code",
   "execution_count": 77,
   "metadata": {},
   "outputs": [
    {
     "name": "stdout",
     "output_type": "stream",
     "text": [
      "+-----+-----+--------------------+-----+\n",
      "| mark|label|            features|index|\n",
      "+-----+-----+--------------------+-----+\n",
      "|train|    0|[22.0,1.0,0.0,7.2...|  0.0|\n",
      "|train|    1|[38.0,1.0,0.0,71....|  1.0|\n",
      "|train|    1|[26.0,0.0,0.0,7.9...|  1.0|\n",
      "+-----+-----+--------------------+-----+\n",
      "only showing top 3 rows\n",
      "\n"
     ]
    }
   ],
   "source": [
    "# index label\n",
    "# convert numeric label to categorical, which is required by\n",
    "# decisionTree and randomForest\n",
    "lf = StringIndexer(inputCol = 'label', outputCol='index').fit(lf).transform(lf)\n",
    " \n",
    "lf.show(3)"
   ]
  },
  {
   "cell_type": "markdown",
   "metadata": {},
   "source": [
    "### Split back into train/test data"
   ]
  },
  {
   "cell_type": "code",
   "execution_count": 78,
   "metadata": {
    "collapsed": true
   },
   "outputs": [],
   "source": [
    "train = lf.where(lf.mark =='train')\n",
    "test = lf.where(lf.mark =='test')"
   ]
  },
  {
   "cell_type": "code",
   "execution_count": 79,
   "metadata": {
    "collapsed": true
   },
   "outputs": [],
   "source": [
    "# random split further to get train/validate\n",
    "train, validate = train.randomSplit([0.7,0.3], seed =121)"
   ]
  },
  {
   "cell_type": "code",
   "execution_count": 80,
   "metadata": {},
   "outputs": [
    {
     "name": "stdout",
     "output_type": "stream",
     "text": [
      "Train Data Number of Row: 637\n",
      "Validate Data Number of Row: 254\n",
      "Test Data Number of Row: 418\n"
     ]
    }
   ],
   "source": [
    "print('Train Data Number of Row: '+ str(train.count()))\n",
    "print('Validate Data Number of Row: '+ str(validate.count()))\n",
    "print('Test Data Number of Row: '+ str(test.count()))"
   ]
  },
  {
   "cell_type": "markdown",
   "metadata": {},
   "source": [
    "## Modeling"
   ]
  },
  {
   "cell_type": "markdown",
   "metadata": {},
   "source": [
    "* ML is built based on DataFrame, while mllib is based on RDD\n",
    "* We'll fit the logistic, decision tree and random forest models from ML packages"
   ]
  },
  {
   "cell_type": "markdown",
   "metadata": {},
   "source": [
    "#### Logistic Regression"
   ]
  },
  {
   "cell_type": "code",
   "execution_count": 81,
   "metadata": {},
   "outputs": [],
   "source": [
    "from pyspark.ml.classification import LogisticRegression\n",
    " \n",
    "# regPara: lasso regularisation parameter (L1)\n",
    "lr = LogisticRegression(maxIter = 100, regParam = 0.05, labelCol='index').fit(train)"
   ]
  },
  {
   "cell_type": "code",
   "execution_count": 82,
   "metadata": {
    "collapsed": true
   },
   "outputs": [],
   "source": [
    "# Evaluate model based on auc ROC(default for binary classification)\n",
    "from pyspark.ml.evaluation import BinaryClassificationEvaluator\n",
    " \n",
    "def testModel(model, validate = validate):\n",
    "    pred = model.transform(validate)\n",
    "    evaluator = BinaryClassificationEvaluator(labelCol = 'index')\n",
    "    return evaluator.evaluate(pred)"
   ]
  },
  {
   "cell_type": "code",
   "execution_count": 83,
   "metadata": {},
   "outputs": [
    {
     "name": "stdout",
     "output_type": "stream",
     "text": [
      "AUC ROC of Logistic Regression model is: 0.8285951045385012\n"
     ]
    }
   ],
   "source": [
    "print('AUC ROC of Logistic Regression model is: ' + str(testModel(lr)))"
   ]
  },
  {
   "cell_type": "code",
   "execution_count": 84,
   "metadata": {},
   "outputs": [
    {
     "name": "stdout",
     "output_type": "stream",
     "text": [
      "AUC ROC of Logistic Regression model is: 0.0\n"
     ]
    }
   ],
   "source": [
    "print('AUC ROC of Logistic Regression model is: ' + str(testModel(lr, validate=test)))"
   ]
  },
  {
   "cell_type": "code",
   "execution_count": 85,
   "metadata": {},
   "outputs": [
    {
     "name": "stdout",
     "output_type": "stream",
     "text": [
      "+----+-----+--------------------+-----+--------------------+--------------------+----------+\n",
      "|mark|label|            features|index|       rawPrediction|         probability|prediction|\n",
      "+----+-----+--------------------+-----+--------------------+--------------------+----------+\n",
      "|test|    0|[34.5,0.0,0.0,7.8...|  0.0|[1.50093878184650...|[0.81771445043407...|       0.0|\n",
      "|test|    0|[47.0,1.0,0.0,7.0...|  0.0|[0.33504871153120...|[0.58298729666084...|       0.0|\n",
      "|test|    0|[62.0,0.0,0.0,9.6...|  0.0|[0.98902877893260...|[0.72889604532691...|       0.0|\n",
      "|test|    0|[27.0,0.0,0.0,8.6...|  0.0|[1.86527300534768...|[0.86591037672668...|       0.0|\n",
      "|test|    0|[22.0,1.0,1.0,12....|  0.0|[-0.1359069367112...|[0.46607546723044...|       1.0|\n",
      "+----+-----+--------------------+-----+--------------------+--------------------+----------+\n",
      "only showing top 5 rows\n",
      "\n"
     ]
    }
   ],
   "source": [
    "pred_test = lr.transform(test)\n",
    "pred_test.show(5)"
   ]
  },
  {
   "cell_type": "markdown",
   "metadata": {},
   "source": [
    "#### More Models"
   ]
  },
  {
   "cell_type": "code",
   "execution_count": 123,
   "metadata": {},
   "outputs": [],
   "source": [
    "from pyspark.ml.classification import DecisionTreeClassifier, RandomForestClassifier, GBTClassifier\n",
    " \n",
    "dt = DecisionTreeClassifier(maxDepth = 15, labelCol ='index').fit(train)\n",
    "#rf = RandomForestClassifier(numTrees = 100, labelCol = 'index').fit(train)\n",
    "#gbt = GBTClassifier(maxIter = 10, labelCol = 'index').fit(train)\n"
   ]
  },
  {
   "cell_type": "code",
   "execution_count": 124,
   "metadata": {},
   "outputs": [
    {
     "name": "stdout",
     "output_type": "stream",
     "text": [
      "{'RandomForest': 0.8470168281489037, 'LogisticRegression': 0.828595104538501, 'DecistionTree': 0.7952256501784802}\n"
     ]
    }
   ],
   "source": [
    "models = {'LogisticRegression':lr,\n",
    "          'DecistionTree':dt,\n",
    "          'RandomForest':rf}\n",
    " \n",
    "modelPerf = {k:testModel(v) for k,v in models.items()}\n",
    "print(modelPerf)"
   ]
  },
  {
   "cell_type": "code",
   "execution_count": 88,
   "metadata": {},
   "outputs": [],
   "source": [
    "def model_acc(model, validate=validate):\n",
    "    pred = model.transform(validate)\n",
    "    eval_vec = np.array(get_column(pred, \"label\")) == np.array(get_column(pred, \"prediction\")) \n",
    "    return(eval_vec.sum()/len(eval_vec))"
   ]
  },
  {
   "cell_type": "code",
   "execution_count": 89,
   "metadata": {},
   "outputs": [
    {
     "data": {
      "text/plain": [
       "0.77559055118110232"
      ]
     },
     "execution_count": 89,
     "metadata": {},
     "output_type": "execute_result"
    }
   ],
   "source": [
    "model_acc(gbt)"
   ]
  },
  {
   "cell_type": "code",
   "execution_count": 90,
   "metadata": {},
   "outputs": [
    {
     "name": "stdout",
     "output_type": "stream",
     "text": [
      "{'RandomForest': 0.80314960629921262, 'LogisticRegression': 0.79133858267716539, 'GradientBoostingMachines': 0.77559055118110232, 'DecistionTree': 0.79133858267716539}\n"
     ]
    }
   ],
   "source": [
    "models = {'LogisticRegression':lr,\n",
    "          'DecistionTree':dt,\n",
    "          'RandomForest':rf,\n",
    "          'GradientBoostingMachines':gbt}\n",
    "\n",
    "modelPerf = {k:model_acc(v) for k,v in models.items()}\n",
    "print(modelPerf)"
   ]
  },
  {
   "cell_type": "markdown",
   "metadata": {},
   "source": [
    "#### Tuning"
   ]
  },
  {
   "cell_type": "code",
   "execution_count": 91,
   "metadata": {},
   "outputs": [
    {
     "name": "stdout",
     "output_type": "stream",
     "text": [
      "AUC ROC of Decision Tree model is(for maxDepth= 0): 0.5\n",
      "AUC ROC of Decision Tree model is(for maxDepth= 1): 0.75790413054564\n",
      "AUC ROC of Decision Tree model is(for maxDepth= 2): 0.8093128505864354\n",
      "AUC ROC of Decision Tree model is(for maxDepth= 3): 0.5850012748597655\n",
      "AUC ROC of Decision Tree model is(for maxDepth= 4): 0.5783720040795511\n",
      "AUC ROC of Decision Tree model is(for maxDepth= 5): 0.6147055073941866\n",
      "AUC ROC of Decision Tree model is(for maxDepth= 6): 0.6425930647628761\n",
      "AUC ROC of Decision Tree model is(for maxDepth= 7): 0.6685683324834268\n",
      "AUC ROC of Decision Tree model is(for maxDepth= 8): 0.7060810810810811\n",
      "AUC ROC of Decision Tree model is(for maxDepth= 9): 0.7025752167261601\n"
     ]
    }
   ],
   "source": [
    "for i in range(10):\n",
    "    dt = DecisionTreeClassifier(maxDepth = i, labelCol ='index').fit(train)\n",
    "    print('AUC ROC of Decision Tree model is' + '(for maxDepth= ' + str(i) + '): ' + str(testModel(dt)))"
   ]
  },
  {
   "cell_type": "code",
   "execution_count": 92,
   "metadata": {},
   "outputs": [
    {
     "name": "stdout",
     "output_type": "stream",
     "text": [
      "AUC ROC of Random Forest model is(for numTrees= 5): 0.8349694033656299\n",
      "AUC ROC of Random Forest model is(for numTrees= 6): 0.8386027536970935\n",
      "AUC ROC of Random Forest model is(for numTrees= 7): 0.836116777154513\n",
      "AUC ROC of Random Forest model is(for numTrees= 8): 0.8383159102498728\n",
      "AUC ROC of Random Forest model is(for numTrees= 9): 0.8350650178480369\n",
      "AUC ROC of Random Forest model is(for numTrees= 10): 0.8500764915859256\n",
      "AUC ROC of Random Forest model is(for numTrees= 11): 0.8490566037735849\n",
      "AUC ROC of Random Forest model is(for numTrees= 12): 0.8397182559918407\n",
      "AUC ROC of Random Forest model is(for numTrees= 13): 0.8459650688424273\n",
      "AUC ROC of Random Forest model is(for numTrees= 14): 0.8412799592044876\n",
      "AUC ROC of Random Forest model is(for numTrees= 15): 0.8467618561958185\n",
      "AUC ROC of Random Forest model is(for numTrees= 16): 0.8523393676695565\n",
      "AUC ROC of Random Forest model is(for numTrees= 17): 0.850682049974503\n",
      "AUC ROC of Random Forest model is(for numTrees= 18): 0.8471761856195819\n",
      "AUC ROC of Random Forest model is(for numTrees= 19): 0.8582993370729218\n",
      "AUC ROC of Random Forest model is(for numTrees= 20): 0.8540604283528812\n",
      "AUC ROC of Random Forest model is(for numTrees= 21): 0.8519569097399287\n",
      "AUC ROC of Random Forest model is(for numTrees= 22): 0.8431922488526263\n",
      "AUC ROC of Random Forest model is(for numTrees= 23): 0.8495028046914843\n",
      "AUC ROC of Random Forest model is(for numTrees= 24): 0.849343447220806\n",
      "AUC ROC of Random Forest model is(for numTrees= 25): 0.8527536970933196\n",
      "AUC ROC of Random Forest model is(for numTrees= 26): 0.8554309026007139\n",
      "AUC ROC of Random Forest model is(for numTrees= 27): 0.8537098419173892\n",
      "AUC ROC of Random Forest model is(for numTrees= 28): 0.8409931157572663\n",
      "AUC ROC of Random Forest model is(for numTrees= 29): 0.8485785313615501\n",
      "AUC ROC of Random Forest model is(for numTrees= 30): 0.8489609892911781\n",
      "AUC ROC of Random Forest model is(for numTrees= 31): 0.8502358490566038\n",
      "AUC ROC of Random Forest model is(for numTrees= 32): 0.848164201937787\n",
      "AUC ROC of Random Forest model is(for numTrees= 33): 0.8564507904130544\n",
      "AUC ROC of Random Forest model is(for numTrees= 34): 0.8536142274349825\n",
      "AUC ROC of Random Forest model is(for numTrees= 35): 0.8516381947985725\n",
      "AUC ROC of Random Forest model is(for numTrees= 36): 0.8490566037735849\n",
      "AUC ROC of Random Forest model is(for numTrees= 37): 0.8526899541050482\n",
      "AUC ROC of Random Forest model is(for numTrees= 38): 0.8436065782763895\n",
      "AUC ROC of Random Forest model is(for numTrees= 39): 0.8432878633350331\n",
      "AUC ROC of Random Forest model is(for numTrees= 40): 0.8484510453850076\n",
      "AUC ROC of Random Forest model is(for numTrees= 41): 0.853741713411525\n",
      "AUC ROC of Random Forest model is(for numTrees= 42): 0.8445308516063232\n",
      "AUC ROC of Random Forest model is(for numTrees= 43): 0.8559089750127487\n",
      "AUC ROC of Random Forest model is(for numTrees= 44): 0.8502677205507395\n",
      "AUC ROC of Random Forest model is(for numTrees= 45): 0.8536142274349825\n",
      "AUC ROC of Random Forest model is(for numTrees= 46): 0.8460606833248349\n",
      "AUC ROC of Random Forest model is(for numTrees= 47): 0.8468255991840898\n",
      "AUC ROC of Random Forest model is(for numTrees= 48): 0.8474630290668026\n",
      "AUC ROC of Random Forest model is(for numTrees= 49): 0.8447858235594085\n",
      "AUC ROC of Random Forest model is(for numTrees= 50): 0.848323559408465\n",
      "AUC ROC of Random Forest model is(for numTrees= 51): 0.8526899541050487\n",
      "AUC ROC of Random Forest model is(for numTrees= 52): 0.8510963793982661\n",
      "AUC ROC of Random Forest model is(for numTrees= 53): 0.849056603773585\n",
      "AUC ROC of Random Forest model is(for numTrees= 54): 0.8419811320754722\n",
      "AUC ROC of Random Forest model is(for numTrees= 55): 0.8518931667516574\n",
      "AUC ROC of Random Forest model is(for numTrees= 56): 0.8498533911269761\n",
      "AUC ROC of Random Forest model is(for numTrees= 57): 0.848833503314635\n",
      "AUC ROC of Random Forest model is(for numTrees= 58): 0.855813360530342\n",
      "AUC ROC of Random Forest model is(for numTrees= 59): 0.8530086690464056\n",
      "AUC ROC of Random Forest model is(for numTrees= 60): 0.8487697603263641\n",
      "AUC ROC of Random Forest model is(for numTrees= 61): 0.8533911269760326\n",
      "AUC ROC of Random Forest model is(for numTrees= 62): 0.852689954105049\n",
      "AUC ROC of Random Forest model is(for numTrees= 63): 0.8470168281489037\n",
      "AUC ROC of Random Forest model is(for numTrees= 64): 0.8510645079041306\n",
      "AUC ROC of Random Forest model is(for numTrees= 65): 0.8447858235594088\n",
      "AUC ROC of Random Forest model is(for numTrees= 66): 0.850331463539011\n",
      "AUC ROC of Random Forest model is(for numTrees= 67): 0.8457419683834777\n",
      "AUC ROC of Random Forest model is(for numTrees= 68): 0.8508732789393165\n",
      "AUC ROC of Random Forest model is(for numTrees= 69): 0.8490884752677206\n",
      "AUC ROC of Random Forest model is(for numTrees= 70): 0.8505226925038247\n",
      "AUC ROC of Random Forest model is(for numTrees= 71): 0.8450089240183583\n",
      "AUC ROC of Random Forest model is(for numTrees= 72): 0.8474311575726672\n",
      "AUC ROC of Random Forest model is(for numTrees= 73): 0.8485785313615503\n",
      "AUC ROC of Random Forest model is(for numTrees= 74): 0.8528811830698624\n",
      "AUC ROC of Random Forest model is(for numTrees= 75): 0.8489928607853137\n",
      "AUC ROC of Random Forest model is(for numTrees= 76): 0.854187914329424\n",
      "AUC ROC of Random Forest model is(for numTrees= 77): 0.850331463539011\n",
      "AUC ROC of Random Forest model is(for numTrees= 78): 0.8439890362060175\n",
      "AUC ROC of Random Forest model is(for numTrees= 79): 0.8484829168791431\n",
      "AUC ROC of Random Forest model is(for numTrees= 80): 0.8505226925038251\n",
      "AUC ROC of Random Forest model is(for numTrees= 81): 0.8466662417134109\n",
      "AUC ROC of Random Forest model is(for numTrees= 82): 0.8463793982661911\n",
      "AUC ROC of Random Forest model is(for numTrees= 83): 0.8472399286078531\n",
      "AUC ROC of Random Forest model is(for numTrees= 84): 0.8473992860785312\n",
      "AUC ROC of Random Forest model is(for numTrees= 85): 0.8524349821519638\n",
      "AUC ROC of Random Forest model is(for numTrees= 86): 0.8512557368689444\n",
      "AUC ROC of Random Forest model is(for numTrees= 87): 0.8445945945945947\n",
      "AUC ROC of Random Forest model is(for numTrees= 88): 0.8523074961754209\n",
      "AUC ROC of Random Forest model is(for numTrees= 89): 0.845996940336563\n",
      "AUC ROC of Random Forest model is(for numTrees= 90): 0.8457419683834779\n",
      "AUC ROC of Random Forest model is(for numTrees= 91): 0.8491203467618563\n",
      "AUC ROC of Random Forest model is(for numTrees= 92): 0.8492478327383987\n",
      "AUC ROC of Random Forest model is(for numTrees= 93): 0.8499490056093831\n",
      "AUC ROC of Random Forest model is(for numTrees= 94): 0.8472399286078534\n",
      "AUC ROC of Random Forest model is(for numTrees= 95): 0.8503633350331465\n",
      "AUC ROC of Random Forest model is(for numTrees= 96): 0.8448814380418153\n",
      "AUC ROC of Random Forest model is(for numTrees= 97): 0.8547934727180013\n",
      "AUC ROC of Random Forest model is(for numTrees= 98): 0.8527218255991839\n",
      "AUC ROC of Random Forest model is(for numTrees= 99): 0.8501721060683322\n",
      "AUC ROC of Random Forest model is(for numTrees= 100): 0.8470168281489037\n",
      "AUC ROC of Random Forest model is(for numTrees= 101): 0.8495665476797551\n",
      "AUC ROC of Random Forest model is(for numTrees= 102): 0.8489609892911782\n",
      "AUC ROC of Random Forest model is(for numTrees= 103): 0.8467937276899546\n",
      "AUC ROC of Random Forest model is(for numTrees= 104): 0.8497896481387051\n",
      "AUC ROC of Random Forest model is(for numTrees= 105): 0.8473992860785314\n",
      "AUC ROC of Random Forest model is(for numTrees= 106): 0.8554627740948499\n",
      "AUC ROC of Random Forest model is(for numTrees= 107): 0.8507776644569096\n",
      "AUC ROC of Random Forest model is(for numTrees= 108): 0.8533592554818967\n",
      "AUC ROC of Random Forest model is(for numTrees= 109): 0.845901325854156\n",
      "AUC ROC of Random Forest model is(for numTrees= 110): 0.8481642019377866\n",
      "AUC ROC of Random Forest model is(for numTrees= 111): 0.8482279449260585\n",
      "AUC ROC of Random Forest model is(for numTrees= 112): 0.8490884752677208\n",
      "AUC ROC of Random Forest model is(for numTrees= 113): 0.8499490056093831\n",
      "AUC ROC of Random Forest model is(for numTrees= 114): 0.8521162672106066\n",
      "AUC ROC of Random Forest model is(for numTrees= 115): 0.8506820499745031\n",
      "AUC ROC of Random Forest model is(for numTrees= 116): 0.8504270780214177\n",
      "AUC ROC of Random Forest model is(for numTrees= 117): 0.8476542580316169\n",
      "AUC ROC of Random Forest model is(for numTrees= 118): 0.8452320244773077\n",
      "AUC ROC of Random Forest model is(for numTrees= 119): 0.847208057113717\n",
      "AUC ROC of Random Forest model is(for numTrees= 120): 0.8533273839877616\n",
      "AUC ROC of Random Forest model is(for numTrees= 121): 0.8528174400815912\n",
      "AUC ROC of Random Forest model is(for numTrees= 122): 0.8484510453850078\n",
      "AUC ROC of Random Forest model is(for numTrees= 123): 0.846666241713411\n",
      "AUC ROC of Random Forest model is(for numTrees= 124): 0.8498852626211115\n",
      "AUC ROC of Random Forest model is(for numTrees= 125): 0.8511601223865374\n",
      "AUC ROC of Random Forest model is(for numTrees= 126): 0.845295767465579\n",
      "AUC ROC of Random Forest model is(for numTrees= 127): 0.8479411014788375\n",
      "AUC ROC of Random Forest model is(for numTrees= 128): 0.8477180010198879\n",
      "AUC ROC of Random Forest model is(for numTrees= 129): 0.8494390617032129\n",
      "AUC ROC of Random Forest model is(for numTrees= 130): 0.8476542580316168\n",
      "AUC ROC of Random Forest model is(for numTrees= 131): 0.8484510453850074\n",
      "AUC ROC of Random Forest model is(for numTrees= 132): 0.8487697603263641\n",
      "AUC ROC of Random Forest model is(for numTrees= 133): 0.8468255991840894\n",
      "AUC ROC of Random Forest model is(for numTrees= 134): 0.848259816420194\n",
      "AUC ROC of Random Forest model is(for numTrees= 135): 0.8515744518103012\n",
      "AUC ROC of Random Forest model is(for numTrees= 136): 0.8506183069862316\n",
      "AUC ROC of Random Forest model is(for numTrees= 137): 0.8426185619581844\n",
      "AUC ROC of Random Forest model is(for numTrees= 138): 0.846634370219276\n",
      "AUC ROC of Random Forest model is(for numTrees= 139): 0.8532317695053547\n",
      "AUC ROC of Random Forest model is(for numTrees= 140): 0.852275624681285\n",
      "AUC ROC of Random Forest model is(for numTrees= 141): 0.8474949005609383\n",
      "AUC ROC of Random Forest model is(for numTrees= 142): 0.851574451810301\n",
      "AUC ROC of Random Forest model is(for numTrees= 143): 0.853104283528812\n",
      "AUC ROC of Random Forest model is(for numTrees= 144): 0.8491840897501274\n",
      "AUC ROC of Random Forest model is(for numTrees= 145): 0.8498215196328407\n",
      "AUC ROC of Random Forest model is(for numTrees= 146): 0.8464431412544621\n",
      "AUC ROC of Random Forest model is(for numTrees= 147): 0.8475267720550743\n",
      "AUC ROC of Random Forest model is(for numTrees= 148): 0.8466024987251406\n",
      "AUC ROC of Random Forest model is(for numTrees= 149): 0.8503633350331465\n",
      "AUC ROC of Random Forest model is(for numTrees= 150): 0.8491840897501276\n",
      "AUC ROC of Random Forest model is(for numTrees= 151): 0.8527536970933199\n",
      "AUC ROC of Random Forest model is(for numTrees= 152): 0.8558133605303422\n",
      "AUC ROC of Random Forest model is(for numTrees= 153): 0.8444352371239163\n",
      "AUC ROC of Random Forest model is(for numTrees= 154): 0.8495984191738907\n",
      "AUC ROC of Random Forest model is(for numTrees= 155): 0.8477180010198877\n",
      "AUC ROC of Random Forest model is(for numTrees= 156): 0.8497577766445692\n",
      "AUC ROC of Random Forest model is(for numTrees= 157): 0.8493115757266705\n",
      "AUC ROC of Random Forest model is(for numTrees= 158): 0.8473674145843959\n",
      "AUC ROC of Random Forest model is(for numTrees= 159): 0.8491522182559921\n",
      "AUC ROC of Random Forest model is(for numTrees= 160): 0.8468893421723611\n",
      "AUC ROC of Random Forest model is(for numTrees= 161): 0.8487378888322284\n",
      "AUC ROC of Random Forest model is(for numTrees= 162): 0.8481642019377871\n",
      "AUC ROC of Random Forest model is(for numTrees= 163): 0.8512876083630804\n",
      "AUC ROC of Random Forest model is(for numTrees= 164): 0.8462519122896482\n",
      "AUC ROC of Random Forest model is(for numTrees= 165): 0.85004462009179\n",
      "AUC ROC of Random Forest model is(for numTrees= 166): 0.852562468128506\n",
      "AUC ROC of Random Forest model is(for numTrees= 167): 0.8494709331973485\n",
      "AUC ROC of Random Forest model is(for numTrees= 168): 0.8481960734319225\n",
      "AUC ROC of Random Forest model is(for numTrees= 169): 0.8503314635390109\n",
      "AUC ROC of Random Forest model is(for numTrees= 170): 0.8521800101988783\n",
      "AUC ROC of Random Forest model is(for numTrees= 171): 0.8454869964303928\n",
      "AUC ROC of Random Forest model is(for numTrees= 172): 0.8465068842427333\n",
      "AUC ROC of Random Forest model is(for numTrees= 173): 0.8474311575726676\n",
      "AUC ROC of Random Forest model is(for numTrees= 174): 0.847622386537481\n",
      "AUC ROC of Random Forest model is(for numTrees= 175): 0.8454869964303926\n",
      "AUC ROC of Random Forest model is(for numTrees= 176): 0.8489928607853138\n",
      "AUC ROC of Random Forest model is(for numTrees= 177): 0.8485785313615501\n",
      "AUC ROC of Random Forest model is(for numTrees= 178): 0.8521481387047425\n",
      "AUC ROC of Random Forest model is(for numTrees= 179): 0.8522437531871496\n",
      "AUC ROC of Random Forest model is(for numTrees= 180): 0.8474630290668025\n",
      "AUC ROC of Random Forest model is(for numTrees= 181): 0.8471443141254462\n",
      "AUC ROC of Random Forest model is(for numTrees= 182): 0.8498215196328402\n",
      "AUC ROC of Random Forest model is(for numTrees= 183): 0.8453595104538505\n",
      "AUC ROC of Random Forest model is(for numTrees= 184): 0.850076491585926\n",
      "AUC ROC of Random Forest model is(for numTrees= 185): 0.8469212136664964\n",
      "AUC ROC of Random Forest model is(for numTrees= 186): 0.8510963793982664\n",
      "AUC ROC of Random Forest model is(for numTrees= 187): 0.8504908210096893\n",
      "AUC ROC of Random Forest model is(for numTrees= 188): 0.8477498725140235\n",
      "AUC ROC of Random Forest model is(for numTrees= 189): 0.8415986741458439\n",
      "AUC ROC of Random Forest model is(for numTrees= 190): 0.846347526772055\n",
      "AUC ROC of Random Forest model is(for numTrees= 191): 0.8480367159612445\n",
      "AUC ROC of Random Forest model is(for numTrees= 192): 0.850905150433452\n",
      "AUC ROC of Random Forest model is(for numTrees= 193): 0.850586435492096\n",
      "AUC ROC of Random Forest model is(for numTrees= 194): 0.8489609892911778\n",
      "AUC ROC of Random Forest model is(for numTrees= 195): 0.8493115757266705\n",
      "AUC ROC of Random Forest model is(for numTrees= 196): 0.8461881693013769\n",
      "AUC ROC of Random Forest model is(for numTrees= 197): 0.8478136155022947\n",
      "AUC ROC of Random Forest model is(for numTrees= 198): 0.8445627231004591\n",
      "AUC ROC of Random Forest model is(for numTrees= 199): 0.8501402345741967\n"
     ]
    }
   ],
   "source": [
    "for i in range(5, 200):\n",
    "    rf = RandomForestClassifier(numTrees = i, labelCol = 'index').fit(train)\n",
    "    print('AUC ROC of Random Forest model is' + '(for numTrees= ' + str(i) + '): ' + str(testModel(rf)))"
   ]
  },
  {
   "cell_type": "code",
   "execution_count": 93,
   "metadata": {
    "collapsed": true
   },
   "outputs": [],
   "source": [
    "model= rf.transform(test)"
   ]
  },
  {
   "cell_type": "code",
   "execution_count": 94,
   "metadata": {},
   "outputs": [
    {
     "name": "stdout",
     "output_type": "stream",
     "text": [
      "+----+-----+--------------------+-----+--------------------+--------------------+----------+\n",
      "|mark|label|            features|index|       rawPrediction|         probability|prediction|\n",
      "+----+-----+--------------------+-----+--------------------+--------------------+----------+\n",
      "|test|    0|[34.5,0.0,0.0,7.8...|  0.0|[183.577442407706...|[0.92249971059148...|       0.0|\n",
      "|test|    0|[47.0,1.0,0.0,7.0...|  0.0|[123.830168867146...|[0.62226215511128...|       0.0|\n",
      "|test|    0|[62.0,0.0,0.0,9.6...|  0.0|[170.103694550491...|[0.85479243492709...|       0.0|\n",
      "|test|    0|[27.0,0.0,0.0,8.6...|  0.0|[172.721743409628...|[0.86794845934486...|       0.0|\n",
      "|test|    0|[22.0,1.0,1.0,12....|  0.0|[94.8986948934326...|[0.47687786378609...|       1.0|\n",
      "|test|    0|[14.0,0.0,0.0,9.2...|  0.0|[171.011578132445...|[0.85935466398213...|       0.0|\n",
      "|test|    0|[30.0,0.0,0.0,7.6...|  0.0|[94.8274791871986...|[0.47651999591557...|       1.0|\n",
      "|test|    0|[26.0,1.0,1.0,29....|  0.0|[163.044159674930...|[0.81931738530115...|       0.0|\n",
      "|test|    0|[18.0,0.0,0.0,7.2...|  0.0|[84.7866809219753...|[0.42606372322600...|       1.0|\n",
      "|test|    0|[21.0,2.0,0.0,24....|  0.0|[175.200285353994...|[0.88040344398992...|       0.0|\n",
      "|test|    0|[29.8811378479003...|  0.0|[180.940638385509...|[0.90924943912316...|       0.0|\n",
      "|test|    0|[46.0,0.0,0.0,26....|  0.0|[164.078202518105...|[0.82451358049299...|       0.0|\n",
      "|test|    0|[23.0,1.0,0.0,82....|  0.0|[6.83122326868808...|[0.03432775511903...|       1.0|\n",
      "|test|    0|[63.0,1.0,0.0,26....|  0.0|[167.277306784014...|[0.84058948132670...|       0.0|\n",
      "|test|    0|[47.0,1.0,0.0,61....|  0.0|[5.41015496860752...|[0.02718670838496...|       1.0|\n",
      "|test|    0|[24.0,1.0,0.0,27....|  0.0|[14.8837978953227...|[0.07479295424785...|       1.0|\n",
      "|test|    0|[35.0,0.0,0.0,12....|  0.0|[182.713305852413...|[0.91815731584127...|       0.0|\n",
      "|test|    0|[21.0,0.0,0.0,7.2...|  0.0|[167.590489758783...|[0.84216326511951...|       0.0|\n",
      "|test|    0|[27.0,1.0,0.0,7.9...|  0.0|[126.994051904791...|[0.63816106484819...|       0.0|\n",
      "|test|    0|[45.0,0.0,0.0,7.2...|  0.0|[101.669786298527...|[0.51090344873631...|       0.0|\n",
      "|test|    0|[55.0,1.0,0.0,59....|  0.0|[142.394016483022...|[0.71554782152272...|       0.0|\n",
      "|test|    0|[9.0,0.0,1.0,3.17...|  0.0|[101.881635700055...|[0.51196801859324...|       0.0|\n",
      "|test|    0|[29.8811378479003...|  0.0|[13.3991244299411...|[0.06733228356754...|       1.0|\n",
      "|test|    0|[21.0,0.0,1.0,61....|  0.0|[137.074542123523...|[0.68881679459056...|       0.0|\n",
      "|test|    0|[48.0,1.0,3.0,262...|  0.0|[9.51627318578102...|[0.04782046827025...|       1.0|\n",
      "|test|    0|[50.0,1.0,0.0,14....|  0.0|[181.364274968141...|[0.91137826617156...|       0.0|\n",
      "|test|    0|[22.0,0.0,1.0,61....|  0.0|[3.94015294638455...|[0.01979976354967...|       1.0|\n",
      "|test|    0|[22.5,0.0,0.0,7.2...|  0.0|[171.233386492828...|[0.86046927885843...|       0.0|\n",
      "|test|    0|[41.0,0.0,0.0,30....|  0.0|[136.310144468230...|[0.68497560034286...|       0.0|\n",
      "|test|    0|[29.8811378479003...|  0.0|[163.576154314194...|[0.82199072519695...|       0.0|\n",
      "|test|    0|[50.0,1.0,0.0,26....|  0.0|[177.504159847556...|[0.89198070275153...|       0.0|\n",
      "|test|    0|[24.0,2.0,0.0,31....|  0.0|[165.042706558097...|[0.82936033446279...|       0.0|\n",
      "|test|    0|[33.0,1.0,2.0,20....|  0.0|[88.8271048379481...|[0.44636736099471...|       1.0|\n",
      "|test|    0|[29.8811378479003...|  0.0|[113.592370971002...|[0.57081593452765...|       0.0|\n",
      "|test|    0|[30.0,1.0,0.0,57....|  0.0|[120.885563481386...|[0.60746514312254...|       0.0|\n",
      "|test|    0|[18.5,0.0,0.0,7.2...|  0.0|[165.956534499537...|[0.83395243467104...|       0.0|\n",
      "|test|    0|[29.8811378479003...|  0.0|[129.359585407608...|[0.65004816787743...|       0.0|\n",
      "|test|    0|[21.0,0.0,0.0,8.6...|  0.0|[134.689271631849...|[0.67683051071281...|       0.0|\n",
      "|test|    0|[25.0,0.0,0.0,9.5...|  0.0|[177.425153296794...|[0.89158368490851...|       0.0|\n",
      "|test|    0|[29.8811378479003...|  0.0|[127.599102516666...|[0.64120152018425...|       0.0|\n",
      "+----+-----+--------------------+-----+--------------------+--------------------+----------+\n",
      "only showing top 40 rows\n",
      "\n"
     ]
    }
   ],
   "source": [
    "model.show(40)"
   ]
  },
  {
   "cell_type": "code",
   "execution_count": 125,
   "metadata": {},
   "outputs": [
    {
     "data": {
      "text/html": [
       "<div>\n",
       "<table border=\"1\" class=\"dataframe\">\n",
       "  <thead>\n",
       "    <tr style=\"text-align: right;\">\n",
       "      <th></th>\n",
       "      <th>mark</th>\n",
       "      <th>label</th>\n",
       "      <th>features</th>\n",
       "      <th>index</th>\n",
       "      <th>rawPrediction</th>\n",
       "      <th>probability</th>\n",
       "      <th>prediction</th>\n",
       "    </tr>\n",
       "  </thead>\n",
       "  <tbody>\n",
       "    <tr>\n",
       "      <th>0</th>\n",
       "      <td>test</td>\n",
       "      <td>0</td>\n",
       "      <td>[34.5, 0.0, 0.0, 7.82919979095, 0.0, 0.0, 2.0,...</td>\n",
       "      <td>0.0</td>\n",
       "      <td>[183.577442408, 15.4225575923]</td>\n",
       "      <td>[0.922499710591, 0.0775002894085]</td>\n",
       "      <td>0.0</td>\n",
       "    </tr>\n",
       "    <tr>\n",
       "      <th>1</th>\n",
       "      <td>test</td>\n",
       "      <td>0</td>\n",
       "      <td>[47.0, 1.0, 0.0, 7.0, 0.0, 1.0, 0.0, 2.0]</td>\n",
       "      <td>0.0</td>\n",
       "      <td>[123.830168867, 75.1698311329]</td>\n",
       "      <td>[0.622262155111, 0.377737844889]</td>\n",
       "      <td>0.0</td>\n",
       "    </tr>\n",
       "    <tr>\n",
       "      <th>2</th>\n",
       "      <td>test</td>\n",
       "      <td>0</td>\n",
       "      <td>[62.0, 0.0, 0.0, 9.6875, 2.0, 0.0, 2.0, 0.0]</td>\n",
       "      <td>0.0</td>\n",
       "      <td>[170.10369455, 28.8963054495]</td>\n",
       "      <td>[0.854792434927, 0.145207565073]</td>\n",
       "      <td>0.0</td>\n",
       "    </tr>\n",
       "    <tr>\n",
       "      <th>3</th>\n",
       "      <td>test</td>\n",
       "      <td>0</td>\n",
       "      <td>[27.0, 0.0, 0.0, 8.66250038147, 0.0, 0.0, 0.0,...</td>\n",
       "      <td>0.0</td>\n",
       "      <td>[172.72174341, 26.2782565904]</td>\n",
       "      <td>[0.867948459345, 0.132051540655]</td>\n",
       "      <td>0.0</td>\n",
       "    </tr>\n",
       "    <tr>\n",
       "      <th>4</th>\n",
       "      <td>test</td>\n",
       "      <td>0</td>\n",
       "      <td>[22.0, 1.0, 1.0, 12.2875003815, 0.0, 1.0, 0.0,...</td>\n",
       "      <td>0.0</td>\n",
       "      <td>[94.8986948934, 104.101305107]</td>\n",
       "      <td>[0.476877863786, 0.523122136214]</td>\n",
       "      <td>1.0</td>\n",
       "    </tr>\n",
       "    <tr>\n",
       "      <th>5</th>\n",
       "      <td>test</td>\n",
       "      <td>0</td>\n",
       "      <td>[14.0, 0.0, 0.0, 9.22500038147, 0.0, 0.0, 0.0,...</td>\n",
       "      <td>0.0</td>\n",
       "      <td>[171.011578132, 27.9884218676]</td>\n",
       "      <td>[0.859354663982, 0.140645336018]</td>\n",
       "      <td>0.0</td>\n",
       "    </tr>\n",
       "    <tr>\n",
       "      <th>6</th>\n",
       "      <td>test</td>\n",
       "      <td>0</td>\n",
       "      <td>[30.0, 0.0, 0.0, 7.62919998169, 0.0, 1.0, 2.0,...</td>\n",
       "      <td>0.0</td>\n",
       "      <td>[94.8274791872, 104.172520813]</td>\n",
       "      <td>[0.476519995916, 0.523480004084]</td>\n",
       "      <td>1.0</td>\n",
       "    </tr>\n",
       "    <tr>\n",
       "      <th>7</th>\n",
       "      <td>test</td>\n",
       "      <td>0</td>\n",
       "      <td>[26.0, 1.0, 1.0, 29.0, 2.0, 0.0, 0.0, 0.0]</td>\n",
       "      <td>0.0</td>\n",
       "      <td>[163.044159675, 35.9558403251]</td>\n",
       "      <td>[0.819317385301, 0.180682614699]</td>\n",
       "      <td>0.0</td>\n",
       "    </tr>\n",
       "    <tr>\n",
       "      <th>8</th>\n",
       "      <td>test</td>\n",
       "      <td>0</td>\n",
       "      <td>[18.0, 0.0, 0.0, 7.22919988632, 0.0, 1.0, 1.0,...</td>\n",
       "      <td>0.0</td>\n",
       "      <td>[84.786680922, 114.213319078]</td>\n",
       "      <td>[0.426063723226, 0.573936276774]</td>\n",
       "      <td>1.0</td>\n",
       "    </tr>\n",
       "    <tr>\n",
       "      <th>9</th>\n",
       "      <td>test</td>\n",
       "      <td>0</td>\n",
       "      <td>[21.0, 2.0, 0.0, 24.1499996185, 0.0, 0.0, 0.0,...</td>\n",
       "      <td>0.0</td>\n",
       "      <td>[175.200285354, 23.799714646]</td>\n",
       "      <td>[0.88040344399, 0.11959655601]</td>\n",
       "      <td>0.0</td>\n",
       "    </tr>\n",
       "    <tr>\n",
       "      <th>10</th>\n",
       "      <td>test</td>\n",
       "      <td>0</td>\n",
       "      <td>[29.8811378479, 0.0, 0.0, 7.89580011368, 0.0, ...</td>\n",
       "      <td>0.0</td>\n",
       "      <td>[180.940638386, 18.0593616145]</td>\n",
       "      <td>[0.909249439123, 0.0907505608768]</td>\n",
       "      <td>0.0</td>\n",
       "    </tr>\n",
       "    <tr>\n",
       "      <th>11</th>\n",
       "      <td>test</td>\n",
       "      <td>0</td>\n",
       "      <td>[46.0, 0.0, 0.0, 26.0, 1.0, 0.0, 0.0, 0.0]</td>\n",
       "      <td>0.0</td>\n",
       "      <td>[164.078202518, 34.9217974819]</td>\n",
       "      <td>[0.824513580493, 0.175486419507]</td>\n",
       "      <td>0.0</td>\n",
       "    </tr>\n",
       "    <tr>\n",
       "      <th>12</th>\n",
       "      <td>test</td>\n",
       "      <td>0</td>\n",
       "      <td>[23.0, 1.0, 0.0, 82.2667007446, 1.0, 1.0, 0.0,...</td>\n",
       "      <td>0.0</td>\n",
       "      <td>[6.83122326869, 192.168776731]</td>\n",
       "      <td>[0.034327755119, 0.965672244881]</td>\n",
       "      <td>1.0</td>\n",
       "    </tr>\n",
       "    <tr>\n",
       "      <th>13</th>\n",
       "      <td>test</td>\n",
       "      <td>0</td>\n",
       "      <td>[63.0, 1.0, 0.0, 26.0, 2.0, 0.0, 0.0, 0.0]</td>\n",
       "      <td>0.0</td>\n",
       "      <td>[167.277306784, 31.722693216]</td>\n",
       "      <td>[0.840589481327, 0.159410518673]</td>\n",
       "      <td>0.0</td>\n",
       "    </tr>\n",
       "    <tr>\n",
       "      <th>14</th>\n",
       "      <td>test</td>\n",
       "      <td>0</td>\n",
       "      <td>[47.0, 1.0, 0.0, 61.1749992371, 1.0, 1.0, 0.0,...</td>\n",
       "      <td>0.0</td>\n",
       "      <td>[5.41015496861, 193.589845031]</td>\n",
       "      <td>[0.027186708385, 0.972813291615]</td>\n",
       "      <td>1.0</td>\n",
       "    </tr>\n",
       "    <tr>\n",
       "      <th>15</th>\n",
       "      <td>test</td>\n",
       "      <td>0</td>\n",
       "      <td>[24.0, 1.0, 0.0, 27.7208003998, 2.0, 1.0, 1.0,...</td>\n",
       "      <td>0.0</td>\n",
       "      <td>[14.8837978953, 184.116202105]</td>\n",
       "      <td>[0.0747929542479, 0.925207045752]</td>\n",
       "      <td>1.0</td>\n",
       "    </tr>\n",
       "    <tr>\n",
       "      <th>16</th>\n",
       "      <td>test</td>\n",
       "      <td>0</td>\n",
       "      <td>[35.0, 0.0, 0.0, 12.3500003815, 2.0, 0.0, 2.0,...</td>\n",
       "      <td>0.0</td>\n",
       "      <td>[182.713305852, 16.2866941476]</td>\n",
       "      <td>[0.918157315841, 0.0818426841587]</td>\n",
       "      <td>0.0</td>\n",
       "    </tr>\n",
       "    <tr>\n",
       "      <th>17</th>\n",
       "      <td>test</td>\n",
       "      <td>0</td>\n",
       "      <td>[21.0, 0.0, 0.0, 7.22499990463, 0.0, 0.0, 1.0,...</td>\n",
       "      <td>0.0</td>\n",
       "      <td>[167.590489759, 31.4095102412]</td>\n",
       "      <td>[0.84216326512, 0.15783673488]</td>\n",
       "      <td>0.0</td>\n",
       "    </tr>\n",
       "    <tr>\n",
       "      <th>18</th>\n",
       "      <td>test</td>\n",
       "      <td>0</td>\n",
       "      <td>[27.0, 1.0, 0.0, 7.92500019073, 0.0, 1.0, 0.0,...</td>\n",
       "      <td>0.0</td>\n",
       "      <td>[126.994051905, 72.0059480952]</td>\n",
       "      <td>[0.638161064848, 0.361838935152]</td>\n",
       "      <td>0.0</td>\n",
       "    </tr>\n",
       "    <tr>\n",
       "      <th>19</th>\n",
       "      <td>test</td>\n",
       "      <td>0</td>\n",
       "      <td>[45.0, 0.0, 0.0, 7.22499990463, 0.0, 1.0, 1.0,...</td>\n",
       "      <td>0.0</td>\n",
       "      <td>[101.669786299, 97.3302137015]</td>\n",
       "      <td>[0.510903448736, 0.489096551264]</td>\n",
       "      <td>0.0</td>\n",
       "    </tr>\n",
       "    <tr>\n",
       "      <th>20</th>\n",
       "      <td>test</td>\n",
       "      <td>0</td>\n",
       "      <td>[55.0, 1.0, 0.0, 59.4000015259, 1.0, 0.0, 1.0,...</td>\n",
       "      <td>0.0</td>\n",
       "      <td>[142.394016483, 56.605983517]</td>\n",
       "      <td>[0.715547821523, 0.284452178477]</td>\n",
       "      <td>0.0</td>\n",
       "    </tr>\n",
       "    <tr>\n",
       "      <th>21</th>\n",
       "      <td>test</td>\n",
       "      <td>0</td>\n",
       "      <td>[9.0, 0.0, 1.0, 3.17079997063, 0.0, 0.0, 0.0, ...</td>\n",
       "      <td>0.0</td>\n",
       "      <td>[101.8816357, 97.1183642999]</td>\n",
       "      <td>[0.511968018593, 0.488031981407]</td>\n",
       "      <td>0.0</td>\n",
       "    </tr>\n",
       "    <tr>\n",
       "      <th>22</th>\n",
       "      <td>test</td>\n",
       "      <td>0</td>\n",
       "      <td>[29.8811378479, 0.0, 0.0, 31.6833000183, 1.0, ...</td>\n",
       "      <td>0.0</td>\n",
       "      <td>[13.3991244299, 185.60087557]</td>\n",
       "      <td>[0.0673322835675, 0.932667716432]</td>\n",
       "      <td>1.0</td>\n",
       "    </tr>\n",
       "    <tr>\n",
       "      <th>23</th>\n",
       "      <td>test</td>\n",
       "      <td>0</td>\n",
       "      <td>[21.0, 0.0, 1.0, 61.3791999817, 1.0, 0.0, 1.0,...</td>\n",
       "      <td>0.0</td>\n",
       "      <td>[137.074542124, 61.9254578765]</td>\n",
       "      <td>[0.688816794591, 0.311183205409]</td>\n",
       "      <td>0.0</td>\n",
       "    </tr>\n",
       "    <tr>\n",
       "      <th>24</th>\n",
       "      <td>test</td>\n",
       "      <td>0</td>\n",
       "      <td>[48.0, 1.0, 3.0, 262.375, 1.0, 1.0, 1.0, 2.0]</td>\n",
       "      <td>0.0</td>\n",
       "      <td>[9.51627318578, 189.483726814]</td>\n",
       "      <td>[0.0478204682703, 0.95217953173]</td>\n",
       "      <td>1.0</td>\n",
       "    </tr>\n",
       "    <tr>\n",
       "      <th>25</th>\n",
       "      <td>test</td>\n",
       "      <td>0</td>\n",
       "      <td>[50.0, 1.0, 0.0, 14.5, 0.0, 0.0, 0.0, 0.0]</td>\n",
       "      <td>0.0</td>\n",
       "      <td>[181.364274968, 17.6357250319]</td>\n",
       "      <td>[0.911378266172, 0.0886217338284]</td>\n",
       "      <td>0.0</td>\n",
       "    </tr>\n",
       "    <tr>\n",
       "      <th>26</th>\n",
       "      <td>test</td>\n",
       "      <td>0</td>\n",
       "      <td>[22.0, 0.0, 1.0, 61.9791984558, 1.0, 1.0, 1.0,...</td>\n",
       "      <td>0.0</td>\n",
       "      <td>[3.94015294638, 195.059847054]</td>\n",
       "      <td>[0.0197997635497, 0.98020023645]</td>\n",
       "      <td>1.0</td>\n",
       "    </tr>\n",
       "    <tr>\n",
       "      <th>27</th>\n",
       "      <td>test</td>\n",
       "      <td>0</td>\n",
       "      <td>[22.5, 0.0, 0.0, 7.22499990463, 0.0, 0.0, 1.0,...</td>\n",
       "      <td>0.0</td>\n",
       "      <td>[171.233386493, 27.7666135072]</td>\n",
       "      <td>[0.860469278858, 0.139530721142]</td>\n",
       "      <td>0.0</td>\n",
       "    </tr>\n",
       "    <tr>\n",
       "      <th>28</th>\n",
       "      <td>test</td>\n",
       "      <td>0</td>\n",
       "      <td>[41.0, 0.0, 0.0, 30.5, 1.0, 0.0, 0.0, 0.0]</td>\n",
       "      <td>0.0</td>\n",
       "      <td>[136.310144468, 62.6898555318]</td>\n",
       "      <td>[0.684975600343, 0.315024399657]</td>\n",
       "      <td>0.0</td>\n",
       "    </tr>\n",
       "    <tr>\n",
       "      <th>29</th>\n",
       "      <td>test</td>\n",
       "      <td>0</td>\n",
       "      <td>[29.8811378479, 2.0, 0.0, 21.6791992188, 0.0, ...</td>\n",
       "      <td>0.0</td>\n",
       "      <td>[163.576154314, 35.4238456858]</td>\n",
       "      <td>[0.821990725197, 0.178009274803]</td>\n",
       "      <td>0.0</td>\n",
       "    </tr>\n",
       "    <tr>\n",
       "      <th>...</th>\n",
       "      <td>...</td>\n",
       "      <td>...</td>\n",
       "      <td>...</td>\n",
       "      <td>...</td>\n",
       "      <td>...</td>\n",
       "      <td>...</td>\n",
       "      <td>...</td>\n",
       "    </tr>\n",
       "    <tr>\n",
       "      <th>388</th>\n",
       "      <td>test</td>\n",
       "      <td>0</td>\n",
       "      <td>[21.0, 0.0, 0.0, 7.75, 0.0, 0.0, 2.0, 0.0]</td>\n",
       "      <td>0.0</td>\n",
       "      <td>[164.603293286, 34.3967067142]</td>\n",
       "      <td>[0.827152227567, 0.172847772433]</td>\n",
       "      <td>0.0</td>\n",
       "    </tr>\n",
       "    <tr>\n",
       "      <th>389</th>\n",
       "      <td>test</td>\n",
       "      <td>0</td>\n",
       "      <td>[6.0, 3.0, 1.0, 21.0750007629, 0.0, 0.0, 0.0, ...</td>\n",
       "      <td>0.0</td>\n",
       "      <td>[145.94613835, 53.05386165]</td>\n",
       "      <td>[0.733397680151, 0.266602319849]</td>\n",
       "      <td>0.0</td>\n",
       "    </tr>\n",
       "    <tr>\n",
       "      <th>390</th>\n",
       "      <td>test</td>\n",
       "      <td>0</td>\n",
       "      <td>[23.0, 0.0, 0.0, 93.5, 1.0, 0.0, 0.0, 0.0]</td>\n",
       "      <td>0.0</td>\n",
       "      <td>[130.661114747, 68.3388852526]</td>\n",
       "      <td>[0.656588516318, 0.343411483682]</td>\n",
       "      <td>0.0</td>\n",
       "    </tr>\n",
       "    <tr>\n",
       "      <th>391</th>\n",
       "      <td>test</td>\n",
       "      <td>0</td>\n",
       "      <td>[51.0, 0.0, 1.0, 39.4000015259, 1.0, 1.0, 0.0,...</td>\n",
       "      <td>0.0</td>\n",
       "      <td>[10.9967101596, 188.00328984]</td>\n",
       "      <td>[0.0552598500484, 0.944740149952]</td>\n",
       "      <td>1.0</td>\n",
       "    </tr>\n",
       "    <tr>\n",
       "      <th>392</th>\n",
       "      <td>test</td>\n",
       "      <td>0</td>\n",
       "      <td>[13.0, 0.0, 2.0, 20.25, 0.0, 0.0, 0.0, 3.0]</td>\n",
       "      <td>0.0</td>\n",
       "      <td>[86.9126871219, 112.087312878]</td>\n",
       "      <td>[0.436747171467, 0.563252828533]</td>\n",
       "      <td>1.0</td>\n",
       "    </tr>\n",
       "    <tr>\n",
       "      <th>393</th>\n",
       "      <td>test</td>\n",
       "      <td>0</td>\n",
       "      <td>[47.0, 0.0, 0.0, 10.5, 2.0, 0.0, 0.0, 0.0]</td>\n",
       "      <td>0.0</td>\n",
       "      <td>[183.207571788, 15.7924282116]</td>\n",
       "      <td>[0.920641064263, 0.0793589357367]</td>\n",
       "      <td>0.0</td>\n",
       "    </tr>\n",
       "    <tr>\n",
       "      <th>394</th>\n",
       "      <td>test</td>\n",
       "      <td>0</td>\n",
       "      <td>[29.0, 3.0, 1.0, 22.0249996185, 0.0, 0.0, 0.0,...</td>\n",
       "      <td>0.0</td>\n",
       "      <td>[179.583925337, 19.4160746629]</td>\n",
       "      <td>[0.902431785614, 0.0975682143864]</td>\n",
       "      <td>0.0</td>\n",
       "    </tr>\n",
       "    <tr>\n",
       "      <th>395</th>\n",
       "      <td>test</td>\n",
       "      <td>0</td>\n",
       "      <td>[18.0, 1.0, 0.0, 60.0, 1.0, 1.0, 0.0, 2.0]</td>\n",
       "      <td>0.0</td>\n",
       "      <td>[6.98945572251, 192.010544277]</td>\n",
       "      <td>[0.0351228930779, 0.964877106922]</td>\n",
       "      <td>1.0</td>\n",
       "    </tr>\n",
       "    <tr>\n",
       "      <th>396</th>\n",
       "      <td>test</td>\n",
       "      <td>0</td>\n",
       "      <td>[24.0, 0.0, 0.0, 7.25, 0.0, 0.0, 2.0, 0.0]</td>\n",
       "      <td>0.0</td>\n",
       "      <td>[170.047787466, 28.9522125335]</td>\n",
       "      <td>[0.854511494807, 0.145488505193]</td>\n",
       "      <td>0.0</td>\n",
       "    </tr>\n",
       "    <tr>\n",
       "      <th>397</th>\n",
       "      <td>test</td>\n",
       "      <td>0</td>\n",
       "      <td>[48.0, 1.0, 1.0, 79.1999969482, 1.0, 1.0, 1.0,...</td>\n",
       "      <td>0.0</td>\n",
       "      <td>[2.61959155396, 196.380408446]</td>\n",
       "      <td>[0.013163776653, 0.986836223347]</td>\n",
       "      <td>1.0</td>\n",
       "    </tr>\n",
       "    <tr>\n",
       "      <th>398</th>\n",
       "      <td>test</td>\n",
       "      <td>0</td>\n",
       "      <td>[22.0, 0.0, 0.0, 7.77500009537, 0.0, 0.0, 0.0,...</td>\n",
       "      <td>0.0</td>\n",
       "      <td>[177.992672, 21.0073280002]</td>\n",
       "      <td>[0.894435537687, 0.105564462313]</td>\n",
       "      <td>0.0</td>\n",
       "    </tr>\n",
       "    <tr>\n",
       "      <th>399</th>\n",
       "      <td>test</td>\n",
       "      <td>0</td>\n",
       "      <td>[31.0, 0.0, 0.0, 7.73330020905, 0.0, 0.0, 2.0,...</td>\n",
       "      <td>0.0</td>\n",
       "      <td>[179.716271744, 19.2837282564]</td>\n",
       "      <td>[0.903096842933, 0.0969031570671]</td>\n",
       "      <td>0.0</td>\n",
       "    </tr>\n",
       "    <tr>\n",
       "      <th>400</th>\n",
       "      <td>test</td>\n",
       "      <td>0</td>\n",
       "      <td>[30.0, 0.0, 0.0, 164.866699219, 1.0, 1.0, 0.0,...</td>\n",
       "      <td>0.0</td>\n",
       "      <td>[3.74309312392, 195.256906876]</td>\n",
       "      <td>[0.0188095131855, 0.981190486814]</td>\n",
       "      <td>1.0</td>\n",
       "    </tr>\n",
       "    <tr>\n",
       "      <th>401</th>\n",
       "      <td>test</td>\n",
       "      <td>0</td>\n",
       "      <td>[38.0, 1.0, 0.0, 21.0, 2.0, 0.0, 0.0, 0.0]</td>\n",
       "      <td>0.0</td>\n",
       "      <td>[181.425534126, 17.5744658736]</td>\n",
       "      <td>[0.911686101138, 0.0883138988624]</td>\n",
       "      <td>0.0</td>\n",
       "    </tr>\n",
       "    <tr>\n",
       "      <th>402</th>\n",
       "      <td>test</td>\n",
       "      <td>0</td>\n",
       "      <td>[22.0, 0.0, 1.0, 59.4000015259, 1.0, 1.0, 1.0,...</td>\n",
       "      <td>0.0</td>\n",
       "      <td>[3.94015294638, 195.059847054]</td>\n",
       "      <td>[0.0197997635497, 0.98020023645]</td>\n",
       "      <td>1.0</td>\n",
       "    </tr>\n",
       "    <tr>\n",
       "      <th>403</th>\n",
       "      <td>test</td>\n",
       "      <td>0</td>\n",
       "      <td>[17.0, 0.0, 0.0, 47.0999984741, 1.0, 0.0, 0.0,...</td>\n",
       "      <td>0.0</td>\n",
       "      <td>[146.491391176, 52.5086088238]</td>\n",
       "      <td>[0.736137644102, 0.263862355898]</td>\n",
       "      <td>0.0</td>\n",
       "    </tr>\n",
       "    <tr>\n",
       "      <th>404</th>\n",
       "      <td>test</td>\n",
       "      <td>0</td>\n",
       "      <td>[43.0, 1.0, 0.0, 27.7208003998, 1.0, 0.0, 1.0,...</td>\n",
       "      <td>0.0</td>\n",
       "      <td>[120.11581032, 78.8841896802]</td>\n",
       "      <td>[0.603597036783, 0.396402963217]</td>\n",
       "      <td>0.0</td>\n",
       "    </tr>\n",
       "    <tr>\n",
       "      <th>405</th>\n",
       "      <td>test</td>\n",
       "      <td>0</td>\n",
       "      <td>[20.0, 0.0, 0.0, 13.8625001907, 2.0, 0.0, 1.0,...</td>\n",
       "      <td>0.0</td>\n",
       "      <td>[180.084410983, 18.9155890165]</td>\n",
       "      <td>[0.904946788862, 0.0950532111383]</td>\n",
       "      <td>0.0</td>\n",
       "    </tr>\n",
       "    <tr>\n",
       "      <th>406</th>\n",
       "      <td>test</td>\n",
       "      <td>0</td>\n",
       "      <td>[23.0, 1.0, 0.0, 10.5, 2.0, 0.0, 0.0, 0.0]</td>\n",
       "      <td>0.0</td>\n",
       "      <td>[183.42217882, 15.5778211801]</td>\n",
       "      <td>[0.921719491557, 0.0782805084425]</td>\n",
       "      <td>0.0</td>\n",
       "    </tr>\n",
       "    <tr>\n",
       "      <th>407</th>\n",
       "      <td>test</td>\n",
       "      <td>0</td>\n",
       "      <td>[50.0, 1.0, 1.0, 211.5, 1.0, 0.0, 1.0, 0.0]</td>\n",
       "      <td>0.0</td>\n",
       "      <td>[146.53015398, 52.4698460203]</td>\n",
       "      <td>[0.736332432059, 0.263667567941]</td>\n",
       "      <td>0.0</td>\n",
       "    </tr>\n",
       "    <tr>\n",
       "      <th>408</th>\n",
       "      <td>test</td>\n",
       "      <td>0</td>\n",
       "      <td>[29.8811378479, 0.0, 0.0, 7.72079992294, 0.0, ...</td>\n",
       "      <td>0.0</td>\n",
       "      <td>[82.0852159349, 116.914784065]</td>\n",
       "      <td>[0.412488522286, 0.587511477714]</td>\n",
       "      <td>1.0</td>\n",
       "    </tr>\n",
       "    <tr>\n",
       "      <th>409</th>\n",
       "      <td>test</td>\n",
       "      <td>0</td>\n",
       "      <td>[3.0, 1.0, 1.0, 13.7749996185, 0.0, 1.0, 0.0, ...</td>\n",
       "      <td>0.0</td>\n",
       "      <td>[70.7429229125, 128.257077088]</td>\n",
       "      <td>[0.355492074937, 0.644507925063]</td>\n",
       "      <td>1.0</td>\n",
       "    </tr>\n",
       "    <tr>\n",
       "      <th>410</th>\n",
       "      <td>test</td>\n",
       "      <td>0</td>\n",
       "      <td>[29.8811378479, 0.0, 0.0, 7.75, 0.0, 1.0, 2.0,...</td>\n",
       "      <td>0.0</td>\n",
       "      <td>[82.1569580401, 116.84304196]</td>\n",
       "      <td>[0.412849035377, 0.587150964623]</td>\n",
       "      <td>1.0</td>\n",
       "    </tr>\n",
       "    <tr>\n",
       "      <th>411</th>\n",
       "      <td>test</td>\n",
       "      <td>0</td>\n",
       "      <td>[37.0, 1.0, 0.0, 90.0, 1.0, 1.0, 2.0, 2.0]</td>\n",
       "      <td>0.0</td>\n",
       "      <td>[2.31604717041, 196.68395283]</td>\n",
       "      <td>[0.011638427992, 0.988361572008]</td>\n",
       "      <td>1.0</td>\n",
       "    </tr>\n",
       "    <tr>\n",
       "      <th>412</th>\n",
       "      <td>test</td>\n",
       "      <td>0</td>\n",
       "      <td>[28.0, 0.0, 0.0, 7.77500009537, 0.0, 1.0, 0.0,...</td>\n",
       "      <td>0.0</td>\n",
       "      <td>[120.870683304, 78.1293166964]</td>\n",
       "      <td>[0.60739036836, 0.39260963164]</td>\n",
       "      <td>0.0</td>\n",
       "    </tr>\n",
       "    <tr>\n",
       "      <th>413</th>\n",
       "      <td>test</td>\n",
       "      <td>0</td>\n",
       "      <td>[29.8811378479, 0.0, 0.0, 8.05000019073, 0.0, ...</td>\n",
       "      <td>0.0</td>\n",
       "      <td>[177.610818737, 21.3891812633]</td>\n",
       "      <td>[0.892516677069, 0.107483322931]</td>\n",
       "      <td>0.0</td>\n",
       "    </tr>\n",
       "    <tr>\n",
       "      <th>414</th>\n",
       "      <td>test</td>\n",
       "      <td>0</td>\n",
       "      <td>[39.0, 0.0, 0.0, 108.900001526, 1.0, 1.0, 1.0,...</td>\n",
       "      <td>0.0</td>\n",
       "      <td>[8.06217099259, 190.937829007]</td>\n",
       "      <td>[0.0405134220733, 0.959486577927]</td>\n",
       "      <td>1.0</td>\n",
       "    </tr>\n",
       "    <tr>\n",
       "      <th>415</th>\n",
       "      <td>test</td>\n",
       "      <td>0</td>\n",
       "      <td>[38.5, 0.0, 0.0, 7.25, 0.0, 0.0, 0.0, 0.0]</td>\n",
       "      <td>0.0</td>\n",
       "      <td>[188.550662877, 10.449337123]</td>\n",
       "      <td>[0.947490768226, 0.052509231774]</td>\n",
       "      <td>0.0</td>\n",
       "    </tr>\n",
       "    <tr>\n",
       "      <th>416</th>\n",
       "      <td>test</td>\n",
       "      <td>0</td>\n",
       "      <td>[29.8811378479, 0.0, 0.0, 8.05000019073, 0.0, ...</td>\n",
       "      <td>0.0</td>\n",
       "      <td>[177.610818737, 21.3891812633]</td>\n",
       "      <td>[0.892516677069, 0.107483322931]</td>\n",
       "      <td>0.0</td>\n",
       "    </tr>\n",
       "    <tr>\n",
       "      <th>417</th>\n",
       "      <td>test</td>\n",
       "      <td>0</td>\n",
       "      <td>[29.8811378479, 1.0, 1.0, 22.3582992554, 0.0, ...</td>\n",
       "      <td>0.0</td>\n",
       "      <td>[92.8288021916, 106.171197808]</td>\n",
       "      <td>[0.466476392923, 0.533523607077]</td>\n",
       "      <td>1.0</td>\n",
       "    </tr>\n",
       "  </tbody>\n",
       "</table>\n",
       "<p>418 rows × 7 columns</p>\n",
       "</div>"
      ],
      "text/plain": [
       "     mark  label                                           features  index  \\\n",
       "0    test      0  [34.5, 0.0, 0.0, 7.82919979095, 0.0, 0.0, 2.0,...    0.0   \n",
       "1    test      0          [47.0, 1.0, 0.0, 7.0, 0.0, 1.0, 0.0, 2.0]    0.0   \n",
       "2    test      0       [62.0, 0.0, 0.0, 9.6875, 2.0, 0.0, 2.0, 0.0]    0.0   \n",
       "3    test      0  [27.0, 0.0, 0.0, 8.66250038147, 0.0, 0.0, 0.0,...    0.0   \n",
       "4    test      0  [22.0, 1.0, 1.0, 12.2875003815, 0.0, 1.0, 0.0,...    0.0   \n",
       "5    test      0  [14.0, 0.0, 0.0, 9.22500038147, 0.0, 0.0, 0.0,...    0.0   \n",
       "6    test      0  [30.0, 0.0, 0.0, 7.62919998169, 0.0, 1.0, 2.0,...    0.0   \n",
       "7    test      0         [26.0, 1.0, 1.0, 29.0, 2.0, 0.0, 0.0, 0.0]    0.0   \n",
       "8    test      0  [18.0, 0.0, 0.0, 7.22919988632, 0.0, 1.0, 1.0,...    0.0   \n",
       "9    test      0  [21.0, 2.0, 0.0, 24.1499996185, 0.0, 0.0, 0.0,...    0.0   \n",
       "10   test      0  [29.8811378479, 0.0, 0.0, 7.89580011368, 0.0, ...    0.0   \n",
       "11   test      0         [46.0, 0.0, 0.0, 26.0, 1.0, 0.0, 0.0, 0.0]    0.0   \n",
       "12   test      0  [23.0, 1.0, 0.0, 82.2667007446, 1.0, 1.0, 0.0,...    0.0   \n",
       "13   test      0         [63.0, 1.0, 0.0, 26.0, 2.0, 0.0, 0.0, 0.0]    0.0   \n",
       "14   test      0  [47.0, 1.0, 0.0, 61.1749992371, 1.0, 1.0, 0.0,...    0.0   \n",
       "15   test      0  [24.0, 1.0, 0.0, 27.7208003998, 2.0, 1.0, 1.0,...    0.0   \n",
       "16   test      0  [35.0, 0.0, 0.0, 12.3500003815, 2.0, 0.0, 2.0,...    0.0   \n",
       "17   test      0  [21.0, 0.0, 0.0, 7.22499990463, 0.0, 0.0, 1.0,...    0.0   \n",
       "18   test      0  [27.0, 1.0, 0.0, 7.92500019073, 0.0, 1.0, 0.0,...    0.0   \n",
       "19   test      0  [45.0, 0.0, 0.0, 7.22499990463, 0.0, 1.0, 1.0,...    0.0   \n",
       "20   test      0  [55.0, 1.0, 0.0, 59.4000015259, 1.0, 0.0, 1.0,...    0.0   \n",
       "21   test      0  [9.0, 0.0, 1.0, 3.17079997063, 0.0, 0.0, 0.0, ...    0.0   \n",
       "22   test      0  [29.8811378479, 0.0, 0.0, 31.6833000183, 1.0, ...    0.0   \n",
       "23   test      0  [21.0, 0.0, 1.0, 61.3791999817, 1.0, 0.0, 1.0,...    0.0   \n",
       "24   test      0      [48.0, 1.0, 3.0, 262.375, 1.0, 1.0, 1.0, 2.0]    0.0   \n",
       "25   test      0         [50.0, 1.0, 0.0, 14.5, 0.0, 0.0, 0.0, 0.0]    0.0   \n",
       "26   test      0  [22.0, 0.0, 1.0, 61.9791984558, 1.0, 1.0, 1.0,...    0.0   \n",
       "27   test      0  [22.5, 0.0, 0.0, 7.22499990463, 0.0, 0.0, 1.0,...    0.0   \n",
       "28   test      0         [41.0, 0.0, 0.0, 30.5, 1.0, 0.0, 0.0, 0.0]    0.0   \n",
       "29   test      0  [29.8811378479, 2.0, 0.0, 21.6791992188, 0.0, ...    0.0   \n",
       "..    ...    ...                                                ...    ...   \n",
       "388  test      0         [21.0, 0.0, 0.0, 7.75, 0.0, 0.0, 2.0, 0.0]    0.0   \n",
       "389  test      0  [6.0, 3.0, 1.0, 21.0750007629, 0.0, 0.0, 0.0, ...    0.0   \n",
       "390  test      0         [23.0, 0.0, 0.0, 93.5, 1.0, 0.0, 0.0, 0.0]    0.0   \n",
       "391  test      0  [51.0, 0.0, 1.0, 39.4000015259, 1.0, 1.0, 0.0,...    0.0   \n",
       "392  test      0        [13.0, 0.0, 2.0, 20.25, 0.0, 0.0, 0.0, 3.0]    0.0   \n",
       "393  test      0         [47.0, 0.0, 0.0, 10.5, 2.0, 0.0, 0.0, 0.0]    0.0   \n",
       "394  test      0  [29.0, 3.0, 1.0, 22.0249996185, 0.0, 0.0, 0.0,...    0.0   \n",
       "395  test      0         [18.0, 1.0, 0.0, 60.0, 1.0, 1.0, 0.0, 2.0]    0.0   \n",
       "396  test      0         [24.0, 0.0, 0.0, 7.25, 0.0, 0.0, 2.0, 0.0]    0.0   \n",
       "397  test      0  [48.0, 1.0, 1.0, 79.1999969482, 1.0, 1.0, 1.0,...    0.0   \n",
       "398  test      0  [22.0, 0.0, 0.0, 7.77500009537, 0.0, 0.0, 0.0,...    0.0   \n",
       "399  test      0  [31.0, 0.0, 0.0, 7.73330020905, 0.0, 0.0, 2.0,...    0.0   \n",
       "400  test      0  [30.0, 0.0, 0.0, 164.866699219, 1.0, 1.0, 0.0,...    0.0   \n",
       "401  test      0         [38.0, 1.0, 0.0, 21.0, 2.0, 0.0, 0.0, 0.0]    0.0   \n",
       "402  test      0  [22.0, 0.0, 1.0, 59.4000015259, 1.0, 1.0, 1.0,...    0.0   \n",
       "403  test      0  [17.0, 0.0, 0.0, 47.0999984741, 1.0, 0.0, 0.0,...    0.0   \n",
       "404  test      0  [43.0, 1.0, 0.0, 27.7208003998, 1.0, 0.0, 1.0,...    0.0   \n",
       "405  test      0  [20.0, 0.0, 0.0, 13.8625001907, 2.0, 0.0, 1.0,...    0.0   \n",
       "406  test      0         [23.0, 1.0, 0.0, 10.5, 2.0, 0.0, 0.0, 0.0]    0.0   \n",
       "407  test      0        [50.0, 1.0, 1.0, 211.5, 1.0, 0.0, 1.0, 0.0]    0.0   \n",
       "408  test      0  [29.8811378479, 0.0, 0.0, 7.72079992294, 0.0, ...    0.0   \n",
       "409  test      0  [3.0, 1.0, 1.0, 13.7749996185, 0.0, 1.0, 0.0, ...    0.0   \n",
       "410  test      0  [29.8811378479, 0.0, 0.0, 7.75, 0.0, 1.0, 2.0,...    0.0   \n",
       "411  test      0         [37.0, 1.0, 0.0, 90.0, 1.0, 1.0, 2.0, 2.0]    0.0   \n",
       "412  test      0  [28.0, 0.0, 0.0, 7.77500009537, 0.0, 1.0, 0.0,...    0.0   \n",
       "413  test      0  [29.8811378479, 0.0, 0.0, 8.05000019073, 0.0, ...    0.0   \n",
       "414  test      0  [39.0, 0.0, 0.0, 108.900001526, 1.0, 1.0, 1.0,...    0.0   \n",
       "415  test      0         [38.5, 0.0, 0.0, 7.25, 0.0, 0.0, 0.0, 0.0]    0.0   \n",
       "416  test      0  [29.8811378479, 0.0, 0.0, 8.05000019073, 0.0, ...    0.0   \n",
       "417  test      0  [29.8811378479, 1.0, 1.0, 22.3582992554, 0.0, ...    0.0   \n",
       "\n",
       "                      rawPrediction                        probability  \\\n",
       "0    [183.577442408, 15.4225575923]  [0.922499710591, 0.0775002894085]   \n",
       "1    [123.830168867, 75.1698311329]   [0.622262155111, 0.377737844889]   \n",
       "2     [170.10369455, 28.8963054495]   [0.854792434927, 0.145207565073]   \n",
       "3     [172.72174341, 26.2782565904]   [0.867948459345, 0.132051540655]   \n",
       "4    [94.8986948934, 104.101305107]   [0.476877863786, 0.523122136214]   \n",
       "5    [171.011578132, 27.9884218676]   [0.859354663982, 0.140645336018]   \n",
       "6    [94.8274791872, 104.172520813]   [0.476519995916, 0.523480004084]   \n",
       "7    [163.044159675, 35.9558403251]   [0.819317385301, 0.180682614699]   \n",
       "8     [84.786680922, 114.213319078]   [0.426063723226, 0.573936276774]   \n",
       "9     [175.200285354, 23.799714646]     [0.88040344399, 0.11959655601]   \n",
       "10   [180.940638386, 18.0593616145]  [0.909249439123, 0.0907505608768]   \n",
       "11   [164.078202518, 34.9217974819]   [0.824513580493, 0.175486419507]   \n",
       "12   [6.83122326869, 192.168776731]   [0.034327755119, 0.965672244881]   \n",
       "13    [167.277306784, 31.722693216]   [0.840589481327, 0.159410518673]   \n",
       "14   [5.41015496861, 193.589845031]   [0.027186708385, 0.972813291615]   \n",
       "15   [14.8837978953, 184.116202105]  [0.0747929542479, 0.925207045752]   \n",
       "16   [182.713305852, 16.2866941476]  [0.918157315841, 0.0818426841587]   \n",
       "17   [167.590489759, 31.4095102412]     [0.84216326512, 0.15783673488]   \n",
       "18   [126.994051905, 72.0059480952]   [0.638161064848, 0.361838935152]   \n",
       "19   [101.669786299, 97.3302137015]   [0.510903448736, 0.489096551264]   \n",
       "20    [142.394016483, 56.605983517]   [0.715547821523, 0.284452178477]   \n",
       "21     [101.8816357, 97.1183642999]   [0.511968018593, 0.488031981407]   \n",
       "22    [13.3991244299, 185.60087557]  [0.0673322835675, 0.932667716432]   \n",
       "23   [137.074542124, 61.9254578765]   [0.688816794591, 0.311183205409]   \n",
       "24   [9.51627318578, 189.483726814]   [0.0478204682703, 0.95217953173]   \n",
       "25   [181.364274968, 17.6357250319]  [0.911378266172, 0.0886217338284]   \n",
       "26   [3.94015294638, 195.059847054]   [0.0197997635497, 0.98020023645]   \n",
       "27   [171.233386493, 27.7666135072]   [0.860469278858, 0.139530721142]   \n",
       "28   [136.310144468, 62.6898555318]   [0.684975600343, 0.315024399657]   \n",
       "29   [163.576154314, 35.4238456858]   [0.821990725197, 0.178009274803]   \n",
       "..                              ...                                ...   \n",
       "388  [164.603293286, 34.3967067142]   [0.827152227567, 0.172847772433]   \n",
       "389     [145.94613835, 53.05386165]   [0.733397680151, 0.266602319849]   \n",
       "390  [130.661114747, 68.3388852526]   [0.656588516318, 0.343411483682]   \n",
       "391   [10.9967101596, 188.00328984]  [0.0552598500484, 0.944740149952]   \n",
       "392  [86.9126871219, 112.087312878]   [0.436747171467, 0.563252828533]   \n",
       "393  [183.207571788, 15.7924282116]  [0.920641064263, 0.0793589357367]   \n",
       "394  [179.583925337, 19.4160746629]  [0.902431785614, 0.0975682143864]   \n",
       "395  [6.98945572251, 192.010544277]  [0.0351228930779, 0.964877106922]   \n",
       "396  [170.047787466, 28.9522125335]   [0.854511494807, 0.145488505193]   \n",
       "397  [2.61959155396, 196.380408446]   [0.013163776653, 0.986836223347]   \n",
       "398     [177.992672, 21.0073280002]   [0.894435537687, 0.105564462313]   \n",
       "399  [179.716271744, 19.2837282564]  [0.903096842933, 0.0969031570671]   \n",
       "400  [3.74309312392, 195.256906876]  [0.0188095131855, 0.981190486814]   \n",
       "401  [181.425534126, 17.5744658736]  [0.911686101138, 0.0883138988624]   \n",
       "402  [3.94015294638, 195.059847054]   [0.0197997635497, 0.98020023645]   \n",
       "403  [146.491391176, 52.5086088238]   [0.736137644102, 0.263862355898]   \n",
       "404   [120.11581032, 78.8841896802]   [0.603597036783, 0.396402963217]   \n",
       "405  [180.084410983, 18.9155890165]  [0.904946788862, 0.0950532111383]   \n",
       "406   [183.42217882, 15.5778211801]  [0.921719491557, 0.0782805084425]   \n",
       "407   [146.53015398, 52.4698460203]   [0.736332432059, 0.263667567941]   \n",
       "408  [82.0852159349, 116.914784065]   [0.412488522286, 0.587511477714]   \n",
       "409  [70.7429229125, 128.257077088]   [0.355492074937, 0.644507925063]   \n",
       "410   [82.1569580401, 116.84304196]   [0.412849035377, 0.587150964623]   \n",
       "411   [2.31604717041, 196.68395283]   [0.011638427992, 0.988361572008]   \n",
       "412  [120.870683304, 78.1293166964]     [0.60739036836, 0.39260963164]   \n",
       "413  [177.610818737, 21.3891812633]   [0.892516677069, 0.107483322931]   \n",
       "414  [8.06217099259, 190.937829007]  [0.0405134220733, 0.959486577927]   \n",
       "415   [188.550662877, 10.449337123]   [0.947490768226, 0.052509231774]   \n",
       "416  [177.610818737, 21.3891812633]   [0.892516677069, 0.107483322931]   \n",
       "417  [92.8288021916, 106.171197808]   [0.466476392923, 0.533523607077]   \n",
       "\n",
       "     prediction  \n",
       "0           0.0  \n",
       "1           0.0  \n",
       "2           0.0  \n",
       "3           0.0  \n",
       "4           1.0  \n",
       "5           0.0  \n",
       "6           1.0  \n",
       "7           0.0  \n",
       "8           1.0  \n",
       "9           0.0  \n",
       "10          0.0  \n",
       "11          0.0  \n",
       "12          1.0  \n",
       "13          0.0  \n",
       "14          1.0  \n",
       "15          1.0  \n",
       "16          0.0  \n",
       "17          0.0  \n",
       "18          0.0  \n",
       "19          0.0  \n",
       "20          0.0  \n",
       "21          0.0  \n",
       "22          1.0  \n",
       "23          0.0  \n",
       "24          1.0  \n",
       "25          0.0  \n",
       "26          1.0  \n",
       "27          0.0  \n",
       "28          0.0  \n",
       "29          0.0  \n",
       "..          ...  \n",
       "388         0.0  \n",
       "389         0.0  \n",
       "390         0.0  \n",
       "391         1.0  \n",
       "392         1.0  \n",
       "393         0.0  \n",
       "394         0.0  \n",
       "395         1.0  \n",
       "396         0.0  \n",
       "397         1.0  \n",
       "398         0.0  \n",
       "399         0.0  \n",
       "400         1.0  \n",
       "401         0.0  \n",
       "402         1.0  \n",
       "403         0.0  \n",
       "404         0.0  \n",
       "405         0.0  \n",
       "406         0.0  \n",
       "407         0.0  \n",
       "408         1.0  \n",
       "409         1.0  \n",
       "410         1.0  \n",
       "411         1.0  \n",
       "412         0.0  \n",
       "413         0.0  \n",
       "414         1.0  \n",
       "415         0.0  \n",
       "416         0.0  \n",
       "417         1.0  \n",
       "\n",
       "[418 rows x 7 columns]"
      ]
     },
     "execution_count": 125,
     "metadata": {},
     "output_type": "execute_result"
    }
   ],
   "source": [
    "model.toPandas()#.to_csv('submission_titanic.csv')"
   ]
  },
  {
   "cell_type": "code",
   "execution_count": null,
   "metadata": {
    "collapsed": true
   },
   "outputs": [],
   "source": [
    "#sc.stop()"
   ]
  }
 ],
 "metadata": {
  "anaconda-cloud": {},
  "kernelspec": {
   "display_name": "Python 3",
   "language": "python",
   "name": "python3"
  },
  "language_info": {
   "codemirror_mode": {
    "name": "ipython",
    "version": 3
   },
   "file_extension": ".py",
   "mimetype": "text/x-python",
   "name": "python",
   "nbconvert_exporter": "python",
   "pygments_lexer": "ipython3",
   "version": "3.5.2"
  },
  "widgets": {
   "state": {},
   "version": "1.1.2"
  }
 },
 "nbformat": 4,
 "nbformat_minor": 1
}
